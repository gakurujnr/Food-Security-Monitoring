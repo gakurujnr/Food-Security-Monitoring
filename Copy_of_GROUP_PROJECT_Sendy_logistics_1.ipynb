{
  "nbformat": 4,
  "nbformat_minor": 0,
  "metadata": {
    "colab": {
      "name": "Copy of GROUP PROJECT: Sendy logistics 1",
      "version": "0.3.2",
      "provenance": [],
      "collapsed_sections": [
        "kLG2VTrnTvYL",
        "XecOwPNorl2W",
        "J4wfHZwQrs-t",
        "a9BPYqunry97",
        "7KMRBJ7zr9HD",
        "zSGyg6kWsBUl",
        "OI3P3YnHUEBk",
        "FlBMxEDBUc9B",
        "5Xej8A0xrC5N",
        "KOHlxpSKrG6o",
        "vTbdjSrhVIiT",
        "lQ2G4ZPDVOXE",
        "xrmHVMVsVS--",
        "HPQviDmNtta8",
        "qjFHK1CKty7o",
        "HSsicSdvt4Zs"
      ],
      "toc_visible": true,
      "machine_shape": "hm",
      "include_colab_link": true
    },
    "kernelspec": {
      "name": "python3",
      "display_name": "Python 3"
    },
    "accelerator": "GPU"
  },
  "cells": [
    {
      "cell_type": "markdown",
      "metadata": {
        "id": "view-in-github",
        "colab_type": "text"
      },
      "source": [
        "<a href=\"https://colab.research.google.com/github/gakurujnr/Sendy-Logistics-Challenge/blob/master/Copy_of_GROUP_PROJECT_Sendy_logistics_1.ipynb\" target=\"_parent\"><img src=\"https://colab.research.google.com/assets/colab-badge.svg\" alt=\"Open In Colab\"/></a>"
      ]
    },
    {
      "cell_type": "markdown",
      "metadata": {
        "id": "zBAeAZc2k7Mc",
        "colab_type": "text"
      },
      "source": [
        "### CORE"
      ]
    },
    {
      "cell_type": "markdown",
      "metadata": {
        "id": "IFLBG_ogktIR",
        "colab_type": "text"
      },
      "source": [
        "# GROUP PROJECT"
      ]
    },
    {
      "cell_type": "markdown",
      "metadata": {
        "id": "kLG2VTrnTvYL",
        "colab_type": "text"
      },
      "source": [
        "## 1. Defining the Question"
      ]
    },
    {
      "cell_type": "markdown",
      "metadata": {
        "id": "XecOwPNorl2W",
        "colab_type": "text"
      },
      "source": [
        "### a) Specifying the Data Analytic Question"
      ]
    },
    {
      "cell_type": "markdown",
      "metadata": {
        "id": "g2v95x1L9ygI",
        "colab_type": "text"
      },
      "source": [
        "> To predict the estimated time of delivery of orders, from the point of driver pickup to the point of arrival at final \n",
        ">destination."
      ]
    },
    {
      "cell_type": "markdown",
      "metadata": {
        "id": "J4wfHZwQrs-t",
        "colab_type": "text"
      },
      "source": [
        "### b) Defining the Metric for Success"
      ]
    },
    {
      "cell_type": "markdown",
      "metadata": {
        "id": "a9BPYqunry97",
        "colab_type": "text"
      },
      "source": [
        "### c) Understanding the context "
      ]
    },
    {
      "cell_type": "markdown",
      "metadata": {
        "id": "7KMRBJ7zr9HD",
        "colab_type": "text"
      },
      "source": [
        "### d) Recording the Experimental Design"
      ]
    },
    {
      "cell_type": "markdown",
      "metadata": {
        "id": "zSGyg6kWsBUl",
        "colab_type": "text"
      },
      "source": [
        "### e) Data Relevance"
      ]
    },
    {
      "cell_type": "markdown",
      "metadata": {
        "id": "iUNbvIvnT7ep",
        "colab_type": "text"
      },
      "source": [
        "## 2. Reading the Data"
      ]
    },
    {
      "cell_type": "markdown",
      "metadata": {
        "id": "IZBmKSoalpoN",
        "colab_type": "text"
      },
      "source": [
        "### Importing Libraries "
      ]
    },
    {
      "cell_type": "markdown",
      "metadata": {
        "id": "fT_4F_5rl-zz",
        "colab_type": "text"
      },
      "source": [
        "#### a. Basic Python Libraries"
      ]
    },
    {
      "cell_type": "code",
      "metadata": {
        "id": "XJn2KjW-WMlG",
        "colab_type": "code",
        "outputId": "77fa5e4f-fc12-4c1c-caa8-4d17ef4ee3b9",
        "colab": {
          "base_uri": "https://localhost:8080/",
          "height": 238
        }
      },
      "source": [
        "# Importing os\n",
        "import os\n",
        "\n",
        "\n",
        "# Importing Numpy\n",
        "import numpy as np\n",
        "\n",
        "\n",
        "# Importing Pandas\n",
        "import pandas as pd\n",
        "\n",
        "\n",
        "# Importing Seaborn\n",
        "import seaborn as sns\n",
        "\n",
        "\n",
        "# Importing researchpy\n",
        "!pip install researchpy\n",
        "import researchpy as rp\n",
        "\n",
        "\n",
        "# Importing scipy from stats\n",
        "from scipy import stats\n",
        "\n",
        "\n",
        "# Importing Matplotlib\n",
        "import matplotlib.pyplot as plt\n",
        "%matplotlib inline\n",
        "\n",
        "\n",
        "# Importing ttest_1samp from scipy.stats\n",
        "from scipy.stats import ttest_ind\n",
        "\n",
        "\n",
        "# Importing ttest_1samp from scipy.stats\n",
        "from scipy.stats import ttest_1samp\n",
        "\n",
        "\n",
        "\n",
        "from IPython.display import display\n",
        "\n",
        "\n",
        "# Importing warnings\n",
        "import warnings\n",
        "\n",
        "warnings.simplefilter(action='ignore', category=FutureWarning)\n",
        "\n"
      ],
      "execution_count": 0,
      "outputs": [
        {
          "output_type": "stream",
          "text": [
            "Collecting researchpy\n",
            "  Downloading https://files.pythonhosted.org/packages/9c/4f/9401306cc653c9a516efbdb6d63960803b3a246c81f68c3baf1d2d5ed0c1/researchpy-0.1.7-py3-none-any.whl\n",
            "Requirement already satisfied: statsmodels in /usr/local/lib/python3.6/dist-packages (from researchpy) (0.10.1)\n",
            "Requirement already satisfied: numpy in /usr/local/lib/python3.6/dist-packages (from researchpy) (1.16.4)\n",
            "Requirement already satisfied: pandas in /usr/local/lib/python3.6/dist-packages (from researchpy) (0.24.2)\n",
            "Requirement already satisfied: scipy in /usr/local/lib/python3.6/dist-packages (from researchpy) (1.3.1)\n",
            "Requirement already satisfied: patsy>=0.4.0 in /usr/local/lib/python3.6/dist-packages (from statsmodels->researchpy) (0.5.1)\n",
            "Requirement already satisfied: python-dateutil>=2.5.0 in /usr/local/lib/python3.6/dist-packages (from pandas->researchpy) (2.5.3)\n",
            "Requirement already satisfied: pytz>=2011k in /usr/local/lib/python3.6/dist-packages (from pandas->researchpy) (2018.9)\n",
            "Requirement already satisfied: six in /usr/local/lib/python3.6/dist-packages (from patsy>=0.4.0->statsmodels->researchpy) (1.12.0)\n",
            "Installing collected packages: researchpy\n",
            "Successfully installed researchpy-0.1.7\n"
          ],
          "name": "stdout"
        }
      ]
    },
    {
      "cell_type": "markdown",
      "metadata": {
        "id": "5XwqQyY_lm__",
        "colab_type": "text"
      },
      "source": [
        "#### b. Machine Learning Libraries"
      ]
    },
    {
      "cell_type": "code",
      "metadata": {
        "id": "j-uGS1Jylmac",
        "colab_type": "code",
        "outputId": "b2b4b54d-7891-401c-c718-91e546544216",
        "colab": {
          "base_uri": "https://localhost:8080/",
          "height": 72
        }
      },
      "source": [
        "\n",
        "from sklearn.linear_model import LinearRegression\n",
        "from sklearn import model_selection\n",
        "from sklearn.metrics import r2_score\n",
        "from sklearn.model_selection import train_test_split\n",
        "import statsmodels.api as sm\n",
        "from sklearn.neighbors import KNeighborsClassifier\n",
        "from sklearn.tree import DecisionTreeClassifier\n",
        "from sklearn.ensemble import RandomForestClassifier\n",
        "from sklearn.naive_bayes import GaussianNB\n",
        "from sklearn.svm import SVC\n",
        "from xgboost import XGBClassifier\n",
        "from sklearn.preprocessing import StandardScaler\n",
        "from sklearn.decomposition import PCA\n",
        "from sklearn.linear_model import LogisticRegression\n",
        "from sklearn.metrics import confusion_matrix\n",
        "from sklearn.metrics import accuracy_score\n",
        "from sklearn.utils import resample\n",
        "from sklearn import svm\n",
        "from sklearn.datasets import samples_generator\n",
        "from sklearn.feature_selection import SelectKBest\n",
        "from sklearn.feature_selection import f_regression\n",
        "from sklearn.pipeline import Pipeline\n",
        "from collections import Counter\n",
        "from sklearn.datasets import make_classification\n",
        "from imblearn.over_sampling import SMOTE"
      ],
      "execution_count": 0,
      "outputs": [
        {
          "output_type": "stream",
          "text": [
            "/usr/local/lib/python3.6/dist-packages/sklearn/externals/six.py:31: DeprecationWarning: The module is deprecated in version 0.21 and will be removed in version 0.23 since we've dropped support for Python 2.7. Please rely on the official version of six (https://pypi.org/project/six/).\n",
            "  \"(https://pypi.org/project/six/).\", DeprecationWarning)\n"
          ],
          "name": "stderr"
        }
      ]
    },
    {
      "cell_type": "markdown",
      "metadata": {
        "id": "ejSBMDylmNqo",
        "colab_type": "text"
      },
      "source": [
        "### Importing Data"
      ]
    },
    {
      "cell_type": "code",
      "metadata": {
        "id": "JG55tGejmaeJ",
        "colab_type": "code",
        "outputId": "e2f702eb-f7ba-4a80-fc9f-e4da3328f49b",
        "colab": {
          "base_uri": "https://localhost:8080/",
          "height": 450
        }
      },
      "source": [
        "# Loading the Data from the source i.e. csv\n",
        "# ---\n",
        "\n",
        "train = pd.read_csv('Train.csv')\n",
        "\n",
        "test = pd.read_csv('Test.csv')\n",
        "\n",
        "riders = pd.read_csv('Riders.csv')\n"
      ],
      "execution_count": 0,
      "outputs": [
        {
          "output_type": "error",
          "ename": "FileNotFoundError",
          "evalue": "ignored",
          "traceback": [
            "\u001b[0;31m---------------------------------------------------------------------------\u001b[0m",
            "\u001b[0;31mFileNotFoundError\u001b[0m                         Traceback (most recent call last)",
            "\u001b[0;32m<ipython-input-4-bb692ccf11b9>\u001b[0m in \u001b[0;36m<module>\u001b[0;34m()\u001b[0m\n\u001b[1;32m      1\u001b[0m \u001b[0;34m\u001b[0m\u001b[0m\n\u001b[0;32m----> 2\u001b[0;31m \u001b[0mtrain\u001b[0m \u001b[0;34m=\u001b[0m \u001b[0mpd\u001b[0m\u001b[0;34m.\u001b[0m\u001b[0mread_csv\u001b[0m\u001b[0;34m(\u001b[0m\u001b[0;34m'Train.csv'\u001b[0m\u001b[0;34m)\u001b[0m\u001b[0;34m\u001b[0m\u001b[0;34m\u001b[0m\u001b[0m\n\u001b[0m\u001b[1;32m      3\u001b[0m \u001b[0;34m\u001b[0m\u001b[0m\n\u001b[1;32m      4\u001b[0m \u001b[0mtest\u001b[0m \u001b[0;34m=\u001b[0m \u001b[0mpd\u001b[0m\u001b[0;34m.\u001b[0m\u001b[0mread_csv\u001b[0m\u001b[0;34m(\u001b[0m\u001b[0;34m'Test.csv'\u001b[0m\u001b[0;34m)\u001b[0m\u001b[0;34m\u001b[0m\u001b[0;34m\u001b[0m\u001b[0m\n\u001b[1;32m      5\u001b[0m \u001b[0;34m\u001b[0m\u001b[0m\n",
            "\u001b[0;32m/usr/local/lib/python3.6/dist-packages/pandas/io/parsers.py\u001b[0m in \u001b[0;36mparser_f\u001b[0;34m(filepath_or_buffer, sep, delimiter, header, names, index_col, usecols, squeeze, prefix, mangle_dupe_cols, dtype, engine, converters, true_values, false_values, skipinitialspace, skiprows, skipfooter, nrows, na_values, keep_default_na, na_filter, verbose, skip_blank_lines, parse_dates, infer_datetime_format, keep_date_col, date_parser, dayfirst, iterator, chunksize, compression, thousands, decimal, lineterminator, quotechar, quoting, doublequote, escapechar, comment, encoding, dialect, tupleize_cols, error_bad_lines, warn_bad_lines, delim_whitespace, low_memory, memory_map, float_precision)\u001b[0m\n\u001b[1;32m    700\u001b[0m                     skip_blank_lines=skip_blank_lines)\n\u001b[1;32m    701\u001b[0m \u001b[0;34m\u001b[0m\u001b[0m\n\u001b[0;32m--> 702\u001b[0;31m         \u001b[0;32mreturn\u001b[0m \u001b[0m_read\u001b[0m\u001b[0;34m(\u001b[0m\u001b[0mfilepath_or_buffer\u001b[0m\u001b[0;34m,\u001b[0m \u001b[0mkwds\u001b[0m\u001b[0;34m)\u001b[0m\u001b[0;34m\u001b[0m\u001b[0;34m\u001b[0m\u001b[0m\n\u001b[0m\u001b[1;32m    703\u001b[0m \u001b[0;34m\u001b[0m\u001b[0m\n\u001b[1;32m    704\u001b[0m     \u001b[0mparser_f\u001b[0m\u001b[0;34m.\u001b[0m\u001b[0m__name__\u001b[0m \u001b[0;34m=\u001b[0m \u001b[0mname\u001b[0m\u001b[0;34m\u001b[0m\u001b[0;34m\u001b[0m\u001b[0m\n",
            "\u001b[0;32m/usr/local/lib/python3.6/dist-packages/pandas/io/parsers.py\u001b[0m in \u001b[0;36m_read\u001b[0;34m(filepath_or_buffer, kwds)\u001b[0m\n\u001b[1;32m    427\u001b[0m \u001b[0;34m\u001b[0m\u001b[0m\n\u001b[1;32m    428\u001b[0m     \u001b[0;31m# Create the parser.\u001b[0m\u001b[0;34m\u001b[0m\u001b[0;34m\u001b[0m\u001b[0;34m\u001b[0m\u001b[0m\n\u001b[0;32m--> 429\u001b[0;31m     \u001b[0mparser\u001b[0m \u001b[0;34m=\u001b[0m \u001b[0mTextFileReader\u001b[0m\u001b[0;34m(\u001b[0m\u001b[0mfilepath_or_buffer\u001b[0m\u001b[0;34m,\u001b[0m \u001b[0;34m**\u001b[0m\u001b[0mkwds\u001b[0m\u001b[0;34m)\u001b[0m\u001b[0;34m\u001b[0m\u001b[0;34m\u001b[0m\u001b[0m\n\u001b[0m\u001b[1;32m    430\u001b[0m \u001b[0;34m\u001b[0m\u001b[0m\n\u001b[1;32m    431\u001b[0m     \u001b[0;32mif\u001b[0m \u001b[0mchunksize\u001b[0m \u001b[0;32mor\u001b[0m \u001b[0miterator\u001b[0m\u001b[0;34m:\u001b[0m\u001b[0;34m\u001b[0m\u001b[0;34m\u001b[0m\u001b[0m\n",
            "\u001b[0;32m/usr/local/lib/python3.6/dist-packages/pandas/io/parsers.py\u001b[0m in \u001b[0;36m__init__\u001b[0;34m(self, f, engine, **kwds)\u001b[0m\n\u001b[1;32m    893\u001b[0m             \u001b[0mself\u001b[0m\u001b[0;34m.\u001b[0m\u001b[0moptions\u001b[0m\u001b[0;34m[\u001b[0m\u001b[0;34m'has_index_names'\u001b[0m\u001b[0;34m]\u001b[0m \u001b[0;34m=\u001b[0m \u001b[0mkwds\u001b[0m\u001b[0;34m[\u001b[0m\u001b[0;34m'has_index_names'\u001b[0m\u001b[0;34m]\u001b[0m\u001b[0;34m\u001b[0m\u001b[0;34m\u001b[0m\u001b[0m\n\u001b[1;32m    894\u001b[0m \u001b[0;34m\u001b[0m\u001b[0m\n\u001b[0;32m--> 895\u001b[0;31m         \u001b[0mself\u001b[0m\u001b[0;34m.\u001b[0m\u001b[0m_make_engine\u001b[0m\u001b[0;34m(\u001b[0m\u001b[0mself\u001b[0m\u001b[0;34m.\u001b[0m\u001b[0mengine\u001b[0m\u001b[0;34m)\u001b[0m\u001b[0;34m\u001b[0m\u001b[0;34m\u001b[0m\u001b[0m\n\u001b[0m\u001b[1;32m    896\u001b[0m \u001b[0;34m\u001b[0m\u001b[0m\n\u001b[1;32m    897\u001b[0m     \u001b[0;32mdef\u001b[0m \u001b[0mclose\u001b[0m\u001b[0;34m(\u001b[0m\u001b[0mself\u001b[0m\u001b[0;34m)\u001b[0m\u001b[0;34m:\u001b[0m\u001b[0;34m\u001b[0m\u001b[0;34m\u001b[0m\u001b[0m\n",
            "\u001b[0;32m/usr/local/lib/python3.6/dist-packages/pandas/io/parsers.py\u001b[0m in \u001b[0;36m_make_engine\u001b[0;34m(self, engine)\u001b[0m\n\u001b[1;32m   1120\u001b[0m     \u001b[0;32mdef\u001b[0m \u001b[0m_make_engine\u001b[0m\u001b[0;34m(\u001b[0m\u001b[0mself\u001b[0m\u001b[0;34m,\u001b[0m \u001b[0mengine\u001b[0m\u001b[0;34m=\u001b[0m\u001b[0;34m'c'\u001b[0m\u001b[0;34m)\u001b[0m\u001b[0;34m:\u001b[0m\u001b[0;34m\u001b[0m\u001b[0;34m\u001b[0m\u001b[0m\n\u001b[1;32m   1121\u001b[0m         \u001b[0;32mif\u001b[0m \u001b[0mengine\u001b[0m \u001b[0;34m==\u001b[0m \u001b[0;34m'c'\u001b[0m\u001b[0;34m:\u001b[0m\u001b[0;34m\u001b[0m\u001b[0;34m\u001b[0m\u001b[0m\n\u001b[0;32m-> 1122\u001b[0;31m             \u001b[0mself\u001b[0m\u001b[0;34m.\u001b[0m\u001b[0m_engine\u001b[0m \u001b[0;34m=\u001b[0m \u001b[0mCParserWrapper\u001b[0m\u001b[0;34m(\u001b[0m\u001b[0mself\u001b[0m\u001b[0;34m.\u001b[0m\u001b[0mf\u001b[0m\u001b[0;34m,\u001b[0m \u001b[0;34m**\u001b[0m\u001b[0mself\u001b[0m\u001b[0;34m.\u001b[0m\u001b[0moptions\u001b[0m\u001b[0;34m)\u001b[0m\u001b[0;34m\u001b[0m\u001b[0;34m\u001b[0m\u001b[0m\n\u001b[0m\u001b[1;32m   1123\u001b[0m         \u001b[0;32melse\u001b[0m\u001b[0;34m:\u001b[0m\u001b[0;34m\u001b[0m\u001b[0;34m\u001b[0m\u001b[0m\n\u001b[1;32m   1124\u001b[0m             \u001b[0;32mif\u001b[0m \u001b[0mengine\u001b[0m \u001b[0;34m==\u001b[0m \u001b[0;34m'python'\u001b[0m\u001b[0;34m:\u001b[0m\u001b[0;34m\u001b[0m\u001b[0;34m\u001b[0m\u001b[0m\n",
            "\u001b[0;32m/usr/local/lib/python3.6/dist-packages/pandas/io/parsers.py\u001b[0m in \u001b[0;36m__init__\u001b[0;34m(self, src, **kwds)\u001b[0m\n\u001b[1;32m   1851\u001b[0m         \u001b[0mkwds\u001b[0m\u001b[0;34m[\u001b[0m\u001b[0;34m'usecols'\u001b[0m\u001b[0;34m]\u001b[0m \u001b[0;34m=\u001b[0m \u001b[0mself\u001b[0m\u001b[0;34m.\u001b[0m\u001b[0musecols\u001b[0m\u001b[0;34m\u001b[0m\u001b[0;34m\u001b[0m\u001b[0m\n\u001b[1;32m   1852\u001b[0m \u001b[0;34m\u001b[0m\u001b[0m\n\u001b[0;32m-> 1853\u001b[0;31m         \u001b[0mself\u001b[0m\u001b[0;34m.\u001b[0m\u001b[0m_reader\u001b[0m \u001b[0;34m=\u001b[0m \u001b[0mparsers\u001b[0m\u001b[0;34m.\u001b[0m\u001b[0mTextReader\u001b[0m\u001b[0;34m(\u001b[0m\u001b[0msrc\u001b[0m\u001b[0;34m,\u001b[0m \u001b[0;34m**\u001b[0m\u001b[0mkwds\u001b[0m\u001b[0;34m)\u001b[0m\u001b[0;34m\u001b[0m\u001b[0;34m\u001b[0m\u001b[0m\n\u001b[0m\u001b[1;32m   1854\u001b[0m         \u001b[0mself\u001b[0m\u001b[0;34m.\u001b[0m\u001b[0munnamed_cols\u001b[0m \u001b[0;34m=\u001b[0m \u001b[0mself\u001b[0m\u001b[0;34m.\u001b[0m\u001b[0m_reader\u001b[0m\u001b[0;34m.\u001b[0m\u001b[0munnamed_cols\u001b[0m\u001b[0;34m\u001b[0m\u001b[0;34m\u001b[0m\u001b[0m\n\u001b[1;32m   1855\u001b[0m \u001b[0;34m\u001b[0m\u001b[0m\n",
            "\u001b[0;32mpandas/_libs/parsers.pyx\u001b[0m in \u001b[0;36mpandas._libs.parsers.TextReader.__cinit__\u001b[0;34m()\u001b[0m\n",
            "\u001b[0;32mpandas/_libs/parsers.pyx\u001b[0m in \u001b[0;36mpandas._libs.parsers.TextReader._setup_parser_source\u001b[0;34m()\u001b[0m\n",
            "\u001b[0;31mFileNotFoundError\u001b[0m: [Errno 2] File b'Train.csv' does not exist: b'Train.csv'"
          ]
        }
      ]
    },
    {
      "cell_type": "markdown",
      "metadata": {
        "id": "OI3P3YnHUEBk",
        "colab_type": "text"
      },
      "source": [
        "## 3. Checking the Data"
      ]
    },
    {
      "cell_type": "code",
      "metadata": {
        "id": "YjSVNwgptHxY",
        "colab_type": "code",
        "colab": {}
      },
      "source": [
        "# Determining the no. of records in our dataset\n",
        "#\n",
        "\n",
        "print('The train dataset has ', train.shape[1], ' columns and ', train.shape[0], ' rows!')\n",
        "\n",
        "print('The test dataset has ', test.shape[1], ' columns and ', test.shape[0], ' rows!')\n",
        "\n",
        "print('The riders dataset has ', riders.shape[1], ' columns and ', riders.shape[0], ' rows!')"
      ],
      "execution_count": 0,
      "outputs": []
    },
    {
      "cell_type": "code",
      "metadata": {
        "id": "xHhTw5eKWr0n",
        "colab_type": "code",
        "colab": {}
      },
      "source": [
        "# Previewing the top of our dataset\n",
        "#\n",
        "\n",
        "train.head(3)"
      ],
      "execution_count": 0,
      "outputs": []
    },
    {
      "cell_type": "code",
      "metadata": {
        "id": "Hej9y1GNAbdF",
        "colab_type": "code",
        "colab": {}
      },
      "source": [
        "# Test\n",
        "\n",
        "test.head(3)"
      ],
      "execution_count": 0,
      "outputs": []
    },
    {
      "cell_type": "code",
      "metadata": {
        "id": "nheTXyGpAfs0",
        "colab_type": "code",
        "colab": {}
      },
      "source": [
        "# Riders\n",
        "\n",
        "riders.head(3)"
      ],
      "execution_count": 0,
      "outputs": []
    },
    {
      "cell_type": "code",
      "metadata": {
        "id": "e9AzGcZFrIIr",
        "colab_type": "code",
        "colab": {}
      },
      "source": [
        "# Previewing the bottom of our dataset\n",
        "# \n",
        "\n",
        "train.tail(3)"
      ],
      "execution_count": 0,
      "outputs": []
    },
    {
      "cell_type": "code",
      "metadata": {
        "id": "i1wHbqsgAqcL",
        "colab_type": "code",
        "colab": {}
      },
      "source": [
        "test.tail(3)"
      ],
      "execution_count": 0,
      "outputs": []
    },
    {
      "cell_type": "code",
      "metadata": {
        "id": "ZYLRV48XAtR0",
        "colab_type": "code",
        "colab": {}
      },
      "source": [
        "riders.tail(3)"
      ],
      "execution_count": 0,
      "outputs": []
    },
    {
      "cell_type": "code",
      "metadata": {
        "id": "xXX3DfeTOhmb",
        "colab_type": "code",
        "colab": {}
      },
      "source": [
        "#variable definitions\n",
        "\n",
        "variable = pd.read_csv('VariableDefinitions (1).csv')\n",
        "\n",
        "variable"
      ],
      "execution_count": 0,
      "outputs": []
    },
    {
      "cell_type": "code",
      "metadata": {
        "id": "n8-dW4sQWzbc",
        "colab_type": "code",
        "colab": {}
      },
      "source": [
        "# Checking whether each column has an appropriate datatype\n",
        "#\n",
        "print('TRAIN dtypes:')\n",
        "print(train.dtypes)\n",
        "\n",
        "print('\\n')\n",
        "\n",
        "print('TEST dtypes:')\n",
        "print(test.dtypes)\n",
        "\n",
        "print('\\n')\n",
        "\n",
        "print('RIDERS dtypes:')\n",
        "print(riders.dtypes)"
      ],
      "execution_count": 0,
      "outputs": []
    },
    {
      "cell_type": "code",
      "metadata": {
        "id": "lZ7hWwzlqJB_",
        "colab_type": "code",
        "colab": {}
      },
      "source": [
        "# Checking unique values and number of rows asigned for each column in the dataset\n",
        "\n",
        "for i in train.columns:\n",
        "  \n",
        "  print('\\n')\n",
        "  \n",
        "  print(train[i].value_counts())\n"
      ],
      "execution_count": 0,
      "outputs": []
    },
    {
      "cell_type": "code",
      "metadata": {
        "id": "_U-5JKJWnDLl",
        "colab_type": "code",
        "colab": {}
      },
      "source": [
        "# checking the profile of our dataset\n",
        "\n",
        "import pandas_profiling\n",
        "\n",
        "pandas_profiling.ProfileReport(train)"
      ],
      "execution_count": 0,
      "outputs": []
    },
    {
      "cell_type": "markdown",
      "metadata": {
        "id": "FlBMxEDBUc9B",
        "colab_type": "text"
      },
      "source": [
        "## 4. Tidying the Dataset"
      ]
    },
    {
      "cell_type": "code",
      "metadata": {
        "id": "YNkksnkvSABf",
        "colab_type": "code",
        "colab": {}
      },
      "source": [
        "train.columns"
      ],
      "execution_count": 0,
      "outputs": []
    },
    {
      "cell_type": "code",
      "metadata": {
        "id": "5o_bQcT5W3Wz",
        "colab_type": "code",
        "colab": {}
      },
      "source": [
        "# Checking for Outliers\n",
        "#\n",
        "%matplotlib inline\n",
        "\n",
        "cols = [col for col in train.columns if col not in ['Time from Pickup to Arrival']]\n",
        "\n",
        "train[cols].plot.box(figsize=(26,5))\n",
        "\n",
        "plt.show()"
      ],
      "execution_count": 0,
      "outputs": []
    },
    {
      "cell_type": "code",
      "metadata": {
        "id": "PWlukLKUvFQN",
        "colab_type": "code",
        "colab": {}
      },
      "source": [
        "# Checking for Anomalies\n",
        "#\n",
        "\n",
        "train.describe()"
      ],
      "execution_count": 0,
      "outputs": []
    },
    {
      "cell_type": "code",
      "metadata": {
        "id": "PvCYb6dgW4yh",
        "colab_type": "code",
        "colab": {}
      },
      "source": [
        "# Identifying existence of missing data in the dataset\n",
        "\n",
        "train.isnull().any()"
      ],
      "execution_count": 0,
      "outputs": []
    },
    {
      "cell_type": "code",
      "metadata": {
        "id": "bK2wCAiZqiH_",
        "colab_type": "code",
        "colab": {}
      },
      "source": [
        "# number of missing values\n",
        "\n",
        "train.isnull().sum()"
      ],
      "execution_count": 0,
      "outputs": []
    },
    {
      "cell_type": "code",
      "metadata": {
        "id": "MpsDGKZHsf_W",
        "colab_type": "code",
        "colab": {}
      },
      "source": [
        "# Dealing with the Missing Data\n",
        "#\n",
        "\n",
        "train.drop(['Precipitation in millimeters'], axis = 1,inplace = True)\n",
        "\n",
        "test.drop(['Precipitation in millimeters'], axis = 1,inplace = True)"
      ],
      "execution_count": 0,
      "outputs": []
    },
    {
      "cell_type": "code",
      "metadata": {
        "id": "D-4I__6Os4C5",
        "colab_type": "code",
        "colab": {}
      },
      "source": [
        "# More data cleaning procedures\n",
        "#\n",
        "# Renaming columns\n",
        "# Train\n",
        "\n",
        "train.columns = ['Order No', 'User Id', 'Vehicle Type', 'Platform Type',\n",
        "       'Personal or Business', 'Placement Day of Month',\n",
        "       'Placement Weekday', 'Placement Time',\n",
        "       'Confirmation Day of Month', 'Confirmation Weekday',\n",
        "       'Confirmation Time', 'Arrival at Pickup Day of Month',\n",
        "       'Arrival at Pickup Weekday', 'Arrival at Pickup Time',\n",
        "       'Pickup Day of Month', 'Pickup Weekday', 'Pickup Time',\n",
        "       'Arrival at Destination Day of Month',\n",
        "       'Arrival at Destination Weekday',\n",
        "       'Arrival at Destination Time', 'Distance KM', 'Temperature',\n",
        "       'Pickup Lat', 'Pickup Long',\n",
        "       'Destination Lat', 'Destination Long', 'Rider Id',\n",
        "       'Time from Pickup to Arrival']\n",
        "\n",
        "train.columns = train.columns.str.replace(' ','_').str.lower()\n",
        "\n",
        "# Test\n",
        "\n",
        "test.columns = ['Order No', 'User Id', 'Vehicle Type', 'Platform Type',\n",
        "       'Personal or Business', 'Placement Day of Month',\n",
        "       'Placement Weekday', 'Placement Time',\n",
        "       'Confirmation Day of Month', 'Confirmation Weekday',\n",
        "       'Confirmation Time', 'Arrival at Pickup Day of Month',\n",
        "       'Arrival at Pickup Weekday', 'Arrival at Pickup Time',\n",
        "       'Pickup Day of Month', 'Pickup Weekday', 'Pickup Time',\n",
        "       'Distance KM', 'Temperature',\n",
        "       'Pickup Lat', 'Pickup Long',\n",
        "       'Destination Lat', 'Destination Long', 'Rider Id']\n",
        "\n",
        "test.columns = test.columns.str.replace(' ','_').str.lower()\n"
      ],
      "execution_count": 0,
      "outputs": []
    },
    {
      "cell_type": "code",
      "metadata": {
        "id": "zFnZgp4pNk9y",
        "colab_type": "code",
        "colab": {}
      },
      "source": [
        "# Filling temperature missing values \n",
        "\n",
        "# Train\n",
        "print('TRAIN:')\n",
        "print(train.temperature.isnull().any())\n",
        "train['temperature'] = train.temperature.fillna((train['temperature'].mean()))\n",
        "print('\\n')\n",
        "print(train.temperature.isnull().any())\n",
        "\n",
        "\n",
        "# Test\n",
        "print('\\n')\n",
        "print('TEST:')\n",
        "print(test.temperature.isnull().any())\n",
        "test['temperature'] = test.temperature.fillna((test['temperature'].mean()))\n",
        "print('\\n')\n",
        "print(test.temperature.isnull().any())"
      ],
      "execution_count": 0,
      "outputs": []
    },
    {
      "cell_type": "code",
      "metadata": {
        "id": "1k49enzhKg0-",
        "colab_type": "code",
        "colab": {}
      },
      "source": [
        "# Saving clean data\n",
        "\n",
        "train.to_csv('trainclean.csv')\n",
        "\n",
        "test.to_csv('testclean.csv')"
      ],
      "execution_count": 0,
      "outputs": []
    },
    {
      "cell_type": "markdown",
      "metadata": {
        "id": "HayJLhscRX1_",
        "colab_type": "text"
      },
      "source": [
        "### Alternate data(OPTION II)"
      ]
    },
    {
      "cell_type": "code",
      "metadata": {
        "id": "lFDb-SHeRV3R",
        "colab_type": "code",
        "colab": {}
      },
      "source": [
        "train.shape"
      ],
      "execution_count": 0,
      "outputs": []
    },
    {
      "cell_type": "code",
      "metadata": {
        "id": "nXAMG9qlSAV-",
        "colab_type": "code",
        "colab": {}
      },
      "source": [
        "test.shape"
      ],
      "execution_count": 0,
      "outputs": []
    },
    {
      "cell_type": "code",
      "metadata": {
        "id": "PlqgbP2bSC-9",
        "colab_type": "code",
        "colab": {}
      },
      "source": [
        "train.dropna(axis = 0,inplace = True)\n",
        "\n",
        "test.dropna(axis = 0,inplace = True)\n"
      ],
      "execution_count": 0,
      "outputs": []
    },
    {
      "cell_type": "code",
      "metadata": {
        "id": "o51Lw-VTSRIi",
        "colab_type": "code",
        "colab": {}
      },
      "source": [
        "train.shape"
      ],
      "execution_count": 0,
      "outputs": []
    },
    {
      "cell_type": "code",
      "metadata": {
        "id": "D4XsWqdXSR7X",
        "colab_type": "code",
        "colab": {}
      },
      "source": [
        "test.shape"
      ],
      "execution_count": 0,
      "outputs": []
    },
    {
      "cell_type": "code",
      "metadata": {
        "id": "RsAx-mdMSWK2",
        "colab_type": "code",
        "colab": {}
      },
      "source": [
        "# Saving option ii of clean data\n",
        "\n",
        "train.to_csv('train_no_null.csv')\n",
        "\n",
        "test.to_csv('test_no_null.csv')"
      ],
      "execution_count": 0,
      "outputs": []
    },
    {
      "cell_type": "markdown",
      "metadata": {
        "id": "rF2ABPsHUtbZ",
        "colab_type": "text"
      },
      "source": [
        "## 5. Exploratory Analysis"
      ]
    },
    {
      "cell_type": "markdown",
      "metadata": {
        "id": "5Xej8A0xrC5N",
        "colab_type": "text"
      },
      "source": [
        "### a. Univariate Analysis"
      ]
    },
    {
      "cell_type": "code",
      "metadata": {
        "id": "T6o7hBHDrdr7",
        "colab_type": "code",
        "colab": {}
      },
      "source": [
        "# Calculating Skewness in the columns of our dataset\n",
        "\n",
        "train.skew().plot.bar(figsize =(14,6))\n",
        "plt.show()"
      ],
      "execution_count": 0,
      "outputs": []
    },
    {
      "cell_type": "code",
      "metadata": {
        "id": "5uMTZ295r5GO",
        "colab_type": "code",
        "colab": {}
      },
      "source": [
        "# Measuring curtosis\n",
        "\n",
        "train.kurt().plot.bar(figsize =(14,6))\n",
        "plt.show()"
      ],
      "execution_count": 0,
      "outputs": []
    },
    {
      "cell_type": "markdown",
      "metadata": {
        "id": "KOHlxpSKrG6o",
        "colab_type": "text"
      },
      "source": [
        "### b. Bivariate Analysis"
      ]
    },
    {
      "cell_type": "code",
      "metadata": {
        "id": "sWftlsEBsDkd",
        "colab_type": "code",
        "colab": {}
      },
      "source": [
        "# Ploting the bivariate summaries and recording our observations\n",
        "#\n",
        "# correlation heatmap of dataset\n",
        "\n",
        "def correlation_heatmap(train):\n",
        "  \n",
        "    _ , ax = plt.subplots(figsize =(18, 15))\n",
        "    \n",
        "    colormap = sns.diverging_palette(220, 10, as_cmap = True)\n",
        "    \n",
        "    _ = sns.heatmap(\n",
        "        \n",
        "        train.corr(), \n",
        "        \n",
        "        cmap = colormap,\n",
        "        \n",
        "        square=True, \n",
        "        \n",
        "        cbar_kws={'shrink':.9 }, \n",
        "        \n",
        "        ax=ax,\n",
        "        \n",
        "        annot=True, \n",
        "        \n",
        "        linewidths=0.1,vmax=1.0, linecolor='white',\n",
        "        \n",
        "        annot_kws={'fontsize':12 }\n",
        "    )\n",
        "    \n",
        "    plt.title('Pearson Correlation of Features', y=1.05, size=15)\n",
        "\n",
        "correlation_heatmap(train)"
      ],
      "execution_count": 0,
      "outputs": []
    },
    {
      "cell_type": "code",
      "metadata": {
        "id": "_GF3bX8bsQ28",
        "colab_type": "code",
        "colab": {}
      },
      "source": [
        "# OBSERVATION: "
      ],
      "execution_count": 0,
      "outputs": []
    },
    {
      "cell_type": "code",
      "metadata": {
        "id": "8PnsmyWxsWs0",
        "colab_type": "code",
        "colab": {}
      },
      "source": [
        "# Crossplots distribution\n",
        "\n",
        "plt.figure(figsize=(14, 14))\n",
        "\n",
        "\n",
        "\n",
        "\n",
        "sns.pairplot(train, diag_kind='kde');"
      ],
      "execution_count": 0,
      "outputs": []
    },
    {
      "cell_type": "markdown",
      "metadata": {
        "id": "yd0_pBrTrNfU",
        "colab_type": "text"
      },
      "source": [
        "### c. Multivariate Analysis"
      ]
    },
    {
      "cell_type": "markdown",
      "metadata": {
        "id": "xdHW7wKnvcyX",
        "colab_type": "text"
      },
      "source": [
        "#### Converting Categorical columns to numerical"
      ]
    },
    {
      "cell_type": "code",
      "metadata": {
        "id": "61s5R6dCTbtC",
        "colab_type": "code",
        "colab": {}
      },
      "source": [
        "# importing clean data \n",
        "\n",
        "train = pd.read_csv('trainclean.csv', index_col = 0)\n",
        "\n",
        "test  = pd.read_csv('testclean.csv', index_col = 0)"
      ],
      "execution_count": 0,
      "outputs": []
    },
    {
      "cell_type": "code",
      "metadata": {
        "id": "NGHM958GUBts",
        "colab_type": "code",
        "colab": {}
      },
      "source": [
        "# Converting categorical columns to numerical\n",
        "\n",
        "train['personal_or_business'] = train.personal_or_business.map({'Business':0, 'Personal': 1})\n",
        "\n",
        "test['personal_or_business'] = test.personal_or_business.map({'Business':0, 'Personal': 1})"
      ],
      "execution_count": 0,
      "outputs": []
    },
    {
      "cell_type": "code",
      "metadata": {
        "id": "qeok1QSS4E5Q",
        "colab_type": "code",
        "colab": {}
      },
      "source": [
        "# Converting time columns from 12hr categorical columns to 24 hour numeric format columns\n",
        "\n",
        "# TRAIN\n",
        "\n",
        "train['placement_time'] = pd.to_datetime(train['placement_time']).dt.strftime('%H:%M:%S')\n",
        "\n",
        "train['confirmation_time'] = pd.to_datetime(train['confirmation_time']).dt.strftime('%H:%M:%S')\n",
        "\n",
        "train['pickup_time'] = pd.to_datetime(train['pickup_time']).dt.strftime('%H:%M:%S')\n",
        "\n",
        "train['arrival_at_pickup_time'] = pd.to_datetime(train['arrival_at_pickup_time']).dt.strftime('%H:%M:%S')\n",
        "\n",
        "train['arrival_at_destination_time'] = pd.to_datetime(train['arrival_at_destination_time']).dt.strftime('%H:%M:%S')\n",
        "\n",
        "\n",
        "# TEST\n",
        "\n",
        "test['placement_time'] = pd.to_datetime(test['placement_time']).dt.strftime('%H:%M:%S')\n",
        "\n",
        "test['confirmation_time'] = pd.to_datetime(test['confirmation_time']).dt.strftime('%H:%M:%S')\n",
        "\n",
        "test['pickup_time'] = pd.to_datetime(test['pickup_time']).dt.strftime('%H:%M:%S')\n",
        "\n",
        "test['arrival_at_pickup_time'] = pd.to_datetime(test['arrival_at_pickup_time']).dt.strftime('%H:%M:%S')"
      ],
      "execution_count": 0,
      "outputs": []
    },
    {
      "cell_type": "code",
      "metadata": {
        "id": "K-pT4M0J-NbJ",
        "colab_type": "code",
        "outputId": "68c35a96-3cc5-4ee0-eeb1-80c49d4b6454",
        "colab": {
          "base_uri": "https://localhost:8080/",
          "height": 222
        }
      },
      "source": [
        "test.head()"
      ],
      "execution_count": 0,
      "outputs": [
        {
          "output_type": "execute_result",
          "data": {
            "text/html": [
              "<div>\n",
              "<style scoped>\n",
              "    .dataframe tbody tr th:only-of-type {\n",
              "        vertical-align: middle;\n",
              "    }\n",
              "\n",
              "    .dataframe tbody tr th {\n",
              "        vertical-align: top;\n",
              "    }\n",
              "\n",
              "    .dataframe thead th {\n",
              "        text-align: right;\n",
              "    }\n",
              "</style>\n",
              "<table border=\"1\" class=\"dataframe\">\n",
              "  <thead>\n",
              "    <tr style=\"text-align: right;\">\n",
              "      <th></th>\n",
              "      <th>order_no</th>\n",
              "      <th>user_id</th>\n",
              "      <th>vehicle_type</th>\n",
              "      <th>platform_type</th>\n",
              "      <th>personal_or_business</th>\n",
              "      <th>placement_day_of_month</th>\n",
              "      <th>placement_weekday</th>\n",
              "      <th>placement_time</th>\n",
              "      <th>confirmation_day_of_month</th>\n",
              "      <th>confirmation_weekday</th>\n",
              "      <th>confirmation_time</th>\n",
              "      <th>arrival_at_pickup_day_of_month</th>\n",
              "      <th>arrival_at_pickup_weekday</th>\n",
              "      <th>arrival_at_pickup_time</th>\n",
              "      <th>pickup_day_of_month</th>\n",
              "      <th>pickup_weekday</th>\n",
              "      <th>pickup_time</th>\n",
              "      <th>distance_km</th>\n",
              "      <th>temperature</th>\n",
              "      <th>pickup_lat</th>\n",
              "      <th>pickup_long</th>\n",
              "      <th>destination_lat</th>\n",
              "      <th>destination_long</th>\n",
              "      <th>rider_id</th>\n",
              "    </tr>\n",
              "  </thead>\n",
              "  <tbody>\n",
              "    <tr>\n",
              "      <th>0</th>\n",
              "      <td>Order_No_19248</td>\n",
              "      <td>User_Id_3355</td>\n",
              "      <td>Bike</td>\n",
              "      <td>3</td>\n",
              "      <td>0</td>\n",
              "      <td>27</td>\n",
              "      <td>3</td>\n",
              "      <td>16:44:10</td>\n",
              "      <td>27</td>\n",
              "      <td>3</td>\n",
              "      <td>16:44:29</td>\n",
              "      <td>27</td>\n",
              "      <td>3</td>\n",
              "      <td>16:53:04</td>\n",
              "      <td>27</td>\n",
              "      <td>3</td>\n",
              "      <td>17:06:47</td>\n",
              "      <td>8</td>\n",
              "      <td>23.24612</td>\n",
              "      <td>-1.333275</td>\n",
              "      <td>36.870815</td>\n",
              "      <td>-1.305249</td>\n",
              "      <td>36.822390</td>\n",
              "      <td>Rider_Id_192</td>\n",
              "    </tr>\n",
              "    <tr>\n",
              "      <th>1</th>\n",
              "      <td>Order_No_12736</td>\n",
              "      <td>User_Id_3647</td>\n",
              "      <td>Bike</td>\n",
              "      <td>3</td>\n",
              "      <td>0</td>\n",
              "      <td>17</td>\n",
              "      <td>5</td>\n",
              "      <td>12:57:35</td>\n",
              "      <td>17</td>\n",
              "      <td>5</td>\n",
              "      <td>12:59:17</td>\n",
              "      <td>17</td>\n",
              "      <td>5</td>\n",
              "      <td>13:20:27</td>\n",
              "      <td>17</td>\n",
              "      <td>5</td>\n",
              "      <td>13:25:37</td>\n",
              "      <td>5</td>\n",
              "      <td>23.24612</td>\n",
              "      <td>-1.272639</td>\n",
              "      <td>36.794723</td>\n",
              "      <td>-1.277007</td>\n",
              "      <td>36.823907</td>\n",
              "      <td>Rider_Id_868</td>\n",
              "    </tr>\n",
              "    <tr>\n",
              "      <th>2</th>\n",
              "      <td>Order_No_768</td>\n",
              "      <td>User_Id_2154</td>\n",
              "      <td>Bike</td>\n",
              "      <td>3</td>\n",
              "      <td>0</td>\n",
              "      <td>27</td>\n",
              "      <td>4</td>\n",
              "      <td>11:08:14</td>\n",
              "      <td>27</td>\n",
              "      <td>4</td>\n",
              "      <td>11:25:05</td>\n",
              "      <td>27</td>\n",
              "      <td>4</td>\n",
              "      <td>11:33:20</td>\n",
              "      <td>27</td>\n",
              "      <td>4</td>\n",
              "      <td>11:57:54</td>\n",
              "      <td>5</td>\n",
              "      <td>22.80000</td>\n",
              "      <td>-1.290894</td>\n",
              "      <td>36.822971</td>\n",
              "      <td>-1.276574</td>\n",
              "      <td>36.851365</td>\n",
              "      <td>Rider_Id_26</td>\n",
              "    </tr>\n",
              "    <tr>\n",
              "      <th>3</th>\n",
              "      <td>Order_No_15332</td>\n",
              "      <td>User_Id_2910</td>\n",
              "      <td>Bike</td>\n",
              "      <td>3</td>\n",
              "      <td>0</td>\n",
              "      <td>17</td>\n",
              "      <td>1</td>\n",
              "      <td>13:51:35</td>\n",
              "      <td>17</td>\n",
              "      <td>1</td>\n",
              "      <td>13:53:27</td>\n",
              "      <td>17</td>\n",
              "      <td>1</td>\n",
              "      <td>14:02:41</td>\n",
              "      <td>17</td>\n",
              "      <td>1</td>\n",
              "      <td>14:16:52</td>\n",
              "      <td>5</td>\n",
              "      <td>24.50000</td>\n",
              "      <td>-1.290503</td>\n",
              "      <td>36.809646</td>\n",
              "      <td>-1.303382</td>\n",
              "      <td>36.790658</td>\n",
              "      <td>Rider_Id_685</td>\n",
              "    </tr>\n",
              "    <tr>\n",
              "      <th>4</th>\n",
              "      <td>Order_No_21373</td>\n",
              "      <td>User_Id_1205</td>\n",
              "      <td>Bike</td>\n",
              "      <td>3</td>\n",
              "      <td>0</td>\n",
              "      <td>11</td>\n",
              "      <td>2</td>\n",
              "      <td>11:30:28</td>\n",
              "      <td>11</td>\n",
              "      <td>2</td>\n",
              "      <td>11:34:45</td>\n",
              "      <td>11</td>\n",
              "      <td>2</td>\n",
              "      <td>11:47:19</td>\n",
              "      <td>11</td>\n",
              "      <td>2</td>\n",
              "      <td>11:56:04</td>\n",
              "      <td>6</td>\n",
              "      <td>24.40000</td>\n",
              "      <td>-1.281081</td>\n",
              "      <td>36.814423</td>\n",
              "      <td>-1.266467</td>\n",
              "      <td>36.792161</td>\n",
              "      <td>Rider_Id_858</td>\n",
              "    </tr>\n",
              "  </tbody>\n",
              "</table>\n",
              "</div>"
            ],
            "text/plain": [
              "         order_no       user_id  ... destination_long      rider_id\n",
              "0  Order_No_19248  User_Id_3355  ...        36.822390  Rider_Id_192\n",
              "1  Order_No_12736  User_Id_3647  ...        36.823907  Rider_Id_868\n",
              "2    Order_No_768  User_Id_2154  ...        36.851365   Rider_Id_26\n",
              "3  Order_No_15332  User_Id_2910  ...        36.790658  Rider_Id_685\n",
              "4  Order_No_21373  User_Id_1205  ...        36.792161  Rider_Id_858\n",
              "\n",
              "[5 rows x 24 columns]"
            ]
          },
          "metadata": {
            "tags": []
          },
          "execution_count": 95
        }
      ]
    },
    {
      "cell_type": "code",
      "metadata": {
        "id": "L3TVEteMMDGP",
        "colab_type": "code",
        "colab": {}
      },
      "source": [
        "train.dropna(axis = 0, how = 'any', inplace = True)"
      ],
      "execution_count": 0,
      "outputs": []
    },
    {
      "cell_type": "code",
      "metadata": {
        "id": "CpJ6kPHoNyCC",
        "colab_type": "code",
        "outputId": "3c26dc18-3fac-4f13-d19e-04cb20ec27a9",
        "colab": {
          "base_uri": "https://localhost:8080/",
          "height": 520
        }
      },
      "source": [
        "train.isnull().sum()"
      ],
      "execution_count": 0,
      "outputs": [
        {
          "output_type": "execute_result",
          "data": {
            "text/plain": [
              "order_no                               0\n",
              "user_id                                0\n",
              "vehicle_type                           0\n",
              "platform_type                          0\n",
              "personal_or_business                   0\n",
              "placement_day_of_month                 0\n",
              "placement_weekday                      0\n",
              "placement_time                         0\n",
              "confirmation_day_of_month              0\n",
              "confirmation_weekday                   0\n",
              "confirmation_time                      0\n",
              "arrival_at_pickup_day_of_month         0\n",
              "arrival_at_pickup_weekday              0\n",
              "arrival_at_pickup_time                 0\n",
              "pickup_day_of_month                    0\n",
              "pickup_weekday                         0\n",
              "pickup_time                            0\n",
              "arrival_at_destination_day_of_month    0\n",
              "arrival_at_destination_weekday         0\n",
              "arrival_at_destination_time            0\n",
              "distance_km                            0\n",
              "temperature                            0\n",
              "pickup_lat                             0\n",
              "pickup_long                            0\n",
              "destination_lat                        0\n",
              "destination_long                       0\n",
              "rider_id                               0\n",
              "time_from_pickup_to_arrival            0\n",
              "dtype: int64"
            ]
          },
          "metadata": {
            "tags": []
          },
          "execution_count": 110
        }
      ]
    },
    {
      "cell_type": "markdown",
      "metadata": {
        "id": "_yJnspybG_fE",
        "colab_type": "text"
      },
      "source": [
        "#####Splitting the time column into hours and minutes"
      ]
    },
    {
      "cell_type": "code",
      "metadata": {
        "id": "2-HRoJDvX37A",
        "colab_type": "code",
        "colab": {}
      },
      "source": [
        "cols = ['placement_time', 'confirmation_time', 'arrival_at_pickup_time', 'pickup_time', 'arrival_at_destination_time']\n",
        "new_cols = ['placement', 'confirmation', 'p_arrival', 'pickup', 'd_arrival']\n",
        "\n",
        "cols1 = ['placement_time', 'confirmation_time', 'arrival_at_pickup_time', 'pickup_time']\n",
        "new_cols1 = ['placement', 'confirmation', 'p_arrival', 'pickup']\n",
        "\n",
        "\n",
        "def time_in_seconds(x):\n",
        "    x = int(x[:2]) * 60*60 + int(x[3:5]) *60 +int(x[-2:])\n",
        "    return x\n",
        "for i, j in zip(new_cols, cols):\n",
        "  train[i] = train[j].apply(lambda x: time_in_seconds(x))\n",
        "\n",
        "for k,l in zip(new_cols1, cols1):\n",
        "  test[k] = test[l].apply(lambda x: time_in_seconds(x))"
      ],
      "execution_count": 0,
      "outputs": []
    },
    {
      "cell_type": "code",
      "metadata": {
        "id": "xcyt-pnRkCDL",
        "colab_type": "code",
        "colab": {}
      },
      "source": [
        "new_cols = ['placement', 'confirmation', 'p_arrival', 'pickup', 'd_arrival']\n",
        "col_sine = ['placement_stime', 'confirmation_stime', 'parrival_stime', 'pickup_stime', 'darrival_stime']\n",
        "col_cosine = ['placement_ctime', 'confirmation_ctime', 'parrival_ctime', 'pickup_ctime', 'darrival_ctime']\n",
        "\n",
        "\n",
        "for s, t, v in zip(col_sine, col_cosine,new_cols):\n",
        "  train[s], train[t]  = train[v].apply(lambda x: np.sin(2*np.pi*x/(24 * 60 * 60))) , train[v].apply(lambda x: np.cos(2*np.pi*x/(24 * 60 * 60)))\n",
        "  train.assign(s = train[s], t = train[t])\n",
        "  \n",
        "for s, t, v in zip(col_sine, col_cosine,new_cols1):\n",
        "  test[s], test[t]  = test[v].apply(lambda x: np.sin(2*np.pi*x/(24 * 60 * 60))) , test[v].apply(lambda x: np.cos(2*np.pi*x/(24 * 60 * 60)))\n",
        "  test.assign(s = test[s], t = test[t])"
      ],
      "execution_count": 0,
      "outputs": []
    },
    {
      "cell_type": "code",
      "metadata": {
        "id": "w4zgmYSMwmoB",
        "colab_type": "code",
        "outputId": "46525977-cd9c-49a3-8fe6-034480c99e42",
        "colab": {
          "base_uri": "https://localhost:8080/",
          "height": 215
        }
      },
      "source": [
        "train.head()"
      ],
      "execution_count": 0,
      "outputs": [
        {
          "output_type": "execute_result",
          "data": {
            "text/html": [
              "<div>\n",
              "<style scoped>\n",
              "    .dataframe tbody tr th:only-of-type {\n",
              "        vertical-align: middle;\n",
              "    }\n",
              "\n",
              "    .dataframe tbody tr th {\n",
              "        vertical-align: top;\n",
              "    }\n",
              "\n",
              "    .dataframe thead th {\n",
              "        text-align: right;\n",
              "    }\n",
              "</style>\n",
              "<table border=\"1\" class=\"dataframe\">\n",
              "  <thead>\n",
              "    <tr style=\"text-align: right;\">\n",
              "      <th></th>\n",
              "      <th>order_no</th>\n",
              "      <th>user_id</th>\n",
              "      <th>vehicle_type</th>\n",
              "      <th>platform_type</th>\n",
              "      <th>personal_or_business</th>\n",
              "      <th>placement_day_of_month</th>\n",
              "      <th>placement_weekday</th>\n",
              "      <th>placement_time</th>\n",
              "      <th>confirmation_day_of_month</th>\n",
              "      <th>confirmation_weekday</th>\n",
              "      <th>confirmation_time</th>\n",
              "      <th>arrival_at_pickup_day_of_month</th>\n",
              "      <th>arrival_at_pickup_weekday</th>\n",
              "      <th>arrival_at_pickup_time</th>\n",
              "      <th>pickup_day_of_month</th>\n",
              "      <th>pickup_weekday</th>\n",
              "      <th>pickup_time</th>\n",
              "      <th>arrival_at_destination_day_of_month</th>\n",
              "      <th>arrival_at_destination_weekday</th>\n",
              "      <th>arrival_at_destination_time</th>\n",
              "      <th>distance_km</th>\n",
              "      <th>temperature</th>\n",
              "      <th>pickup_lat</th>\n",
              "      <th>pickup_long</th>\n",
              "      <th>destination_lat</th>\n",
              "      <th>destination_long</th>\n",
              "      <th>rider_id</th>\n",
              "      <th>time_from_pickup_to_arrival</th>\n",
              "      <th>placement</th>\n",
              "      <th>confirmation</th>\n",
              "      <th>p_arrival</th>\n",
              "      <th>pickup</th>\n",
              "      <th>d_arrival</th>\n",
              "    </tr>\n",
              "  </thead>\n",
              "  <tbody>\n",
              "    <tr>\n",
              "      <th>0</th>\n",
              "      <td>Order_No_4211</td>\n",
              "      <td>User_Id_633</td>\n",
              "      <td>Bike</td>\n",
              "      <td>3</td>\n",
              "      <td>0</td>\n",
              "      <td>9</td>\n",
              "      <td>5</td>\n",
              "      <td>09:35:46</td>\n",
              "      <td>9</td>\n",
              "      <td>5</td>\n",
              "      <td>09:40:10</td>\n",
              "      <td>9</td>\n",
              "      <td>5</td>\n",
              "      <td>10:04:47</td>\n",
              "      <td>9</td>\n",
              "      <td>5</td>\n",
              "      <td>10:27:30</td>\n",
              "      <td>9</td>\n",
              "      <td>5</td>\n",
              "      <td>10:39:55</td>\n",
              "      <td>4</td>\n",
              "      <td>20.400000</td>\n",
              "      <td>-1.317755</td>\n",
              "      <td>36.830370</td>\n",
              "      <td>-1.300406</td>\n",
              "      <td>36.829741</td>\n",
              "      <td>Rider_Id_432</td>\n",
              "      <td>745</td>\n",
              "      <td>34546</td>\n",
              "      <td>34810</td>\n",
              "      <td>36287</td>\n",
              "      <td>37650</td>\n",
              "      <td>38395</td>\n",
              "    </tr>\n",
              "    <tr>\n",
              "      <th>1</th>\n",
              "      <td>Order_No_25375</td>\n",
              "      <td>User_Id_2285</td>\n",
              "      <td>Bike</td>\n",
              "      <td>3</td>\n",
              "      <td>1</td>\n",
              "      <td>12</td>\n",
              "      <td>5</td>\n",
              "      <td>11:16:16</td>\n",
              "      <td>12</td>\n",
              "      <td>5</td>\n",
              "      <td>11:23:21</td>\n",
              "      <td>12</td>\n",
              "      <td>5</td>\n",
              "      <td>11:40:22</td>\n",
              "      <td>12</td>\n",
              "      <td>5</td>\n",
              "      <td>11:44:09</td>\n",
              "      <td>12</td>\n",
              "      <td>5</td>\n",
              "      <td>12:17:22</td>\n",
              "      <td>16</td>\n",
              "      <td>26.400000</td>\n",
              "      <td>-1.351453</td>\n",
              "      <td>36.899315</td>\n",
              "      <td>-1.295004</td>\n",
              "      <td>36.814358</td>\n",
              "      <td>Rider_Id_856</td>\n",
              "      <td>1993</td>\n",
              "      <td>40576</td>\n",
              "      <td>41001</td>\n",
              "      <td>42022</td>\n",
              "      <td>42249</td>\n",
              "      <td>44242</td>\n",
              "    </tr>\n",
              "    <tr>\n",
              "      <th>2</th>\n",
              "      <td>Order_No_1899</td>\n",
              "      <td>User_Id_265</td>\n",
              "      <td>Bike</td>\n",
              "      <td>3</td>\n",
              "      <td>0</td>\n",
              "      <td>30</td>\n",
              "      <td>2</td>\n",
              "      <td>12:39:25</td>\n",
              "      <td>30</td>\n",
              "      <td>2</td>\n",
              "      <td>12:42:44</td>\n",
              "      <td>30</td>\n",
              "      <td>2</td>\n",
              "      <td>12:49:34</td>\n",
              "      <td>30</td>\n",
              "      <td>2</td>\n",
              "      <td>12:53:03</td>\n",
              "      <td>30</td>\n",
              "      <td>2</td>\n",
              "      <td>13:00:38</td>\n",
              "      <td>3</td>\n",
              "      <td>23.258889</td>\n",
              "      <td>-1.308284</td>\n",
              "      <td>36.843419</td>\n",
              "      <td>-1.300921</td>\n",
              "      <td>36.828195</td>\n",
              "      <td>Rider_Id_155</td>\n",
              "      <td>455</td>\n",
              "      <td>45565</td>\n",
              "      <td>45764</td>\n",
              "      <td>46174</td>\n",
              "      <td>46383</td>\n",
              "      <td>46838</td>\n",
              "    </tr>\n",
              "    <tr>\n",
              "      <th>3</th>\n",
              "      <td>Order_No_9336</td>\n",
              "      <td>User_Id_1402</td>\n",
              "      <td>Bike</td>\n",
              "      <td>3</td>\n",
              "      <td>0</td>\n",
              "      <td>15</td>\n",
              "      <td>5</td>\n",
              "      <td>09:25:34</td>\n",
              "      <td>15</td>\n",
              "      <td>5</td>\n",
              "      <td>09:26:05</td>\n",
              "      <td>15</td>\n",
              "      <td>5</td>\n",
              "      <td>09:37:56</td>\n",
              "      <td>15</td>\n",
              "      <td>5</td>\n",
              "      <td>09:43:06</td>\n",
              "      <td>15</td>\n",
              "      <td>5</td>\n",
              "      <td>10:05:27</td>\n",
              "      <td>9</td>\n",
              "      <td>19.200000</td>\n",
              "      <td>-1.281301</td>\n",
              "      <td>36.832396</td>\n",
              "      <td>-1.257147</td>\n",
              "      <td>36.795063</td>\n",
              "      <td>Rider_Id_855</td>\n",
              "      <td>1341</td>\n",
              "      <td>33934</td>\n",
              "      <td>33965</td>\n",
              "      <td>34676</td>\n",
              "      <td>34986</td>\n",
              "      <td>36327</td>\n",
              "    </tr>\n",
              "    <tr>\n",
              "      <th>4</th>\n",
              "      <td>Order_No_27883</td>\n",
              "      <td>User_Id_1737</td>\n",
              "      <td>Bike</td>\n",
              "      <td>1</td>\n",
              "      <td>1</td>\n",
              "      <td>13</td>\n",
              "      <td>1</td>\n",
              "      <td>09:55:18</td>\n",
              "      <td>13</td>\n",
              "      <td>1</td>\n",
              "      <td>09:56:18</td>\n",
              "      <td>13</td>\n",
              "      <td>1</td>\n",
              "      <td>10:03:53</td>\n",
              "      <td>13</td>\n",
              "      <td>1</td>\n",
              "      <td>10:05:23</td>\n",
              "      <td>13</td>\n",
              "      <td>1</td>\n",
              "      <td>10:25:37</td>\n",
              "      <td>9</td>\n",
              "      <td>15.400000</td>\n",
              "      <td>-1.266597</td>\n",
              "      <td>36.792118</td>\n",
              "      <td>-1.295041</td>\n",
              "      <td>36.809817</td>\n",
              "      <td>Rider_Id_770</td>\n",
              "      <td>1214</td>\n",
              "      <td>35718</td>\n",
              "      <td>35778</td>\n",
              "      <td>36233</td>\n",
              "      <td>36323</td>\n",
              "      <td>37537</td>\n",
              "    </tr>\n",
              "  </tbody>\n",
              "</table>\n",
              "</div>"
            ],
            "text/plain": [
              "         order_no       user_id vehicle_type  ...  p_arrival  pickup  d_arrival\n",
              "0   Order_No_4211   User_Id_633         Bike  ...      36287   37650      38395\n",
              "1  Order_No_25375  User_Id_2285         Bike  ...      42022   42249      44242\n",
              "2   Order_No_1899   User_Id_265         Bike  ...      46174   46383      46838\n",
              "3   Order_No_9336  User_Id_1402         Bike  ...      34676   34986      36327\n",
              "4  Order_No_27883  User_Id_1737         Bike  ...      36233   36323      37537\n",
              "\n",
              "[5 rows x 33 columns]"
            ]
          },
          "metadata": {
            "tags": []
          },
          "execution_count": 8
        }
      ]
    },
    {
      "cell_type": "code",
      "metadata": {
        "id": "piWtW5UA_bnU",
        "colab_type": "code",
        "outputId": "748814b7-fd04-44e1-863a-b27e3d91790c",
        "colab": {
          "base_uri": "https://localhost:8080/",
          "height": 215
        }
      },
      "source": [
        "test.head()"
      ],
      "execution_count": 0,
      "outputs": [
        {
          "output_type": "execute_result",
          "data": {
            "text/html": [
              "<div>\n",
              "<style scoped>\n",
              "    .dataframe tbody tr th:only-of-type {\n",
              "        vertical-align: middle;\n",
              "    }\n",
              "\n",
              "    .dataframe tbody tr th {\n",
              "        vertical-align: top;\n",
              "    }\n",
              "\n",
              "    .dataframe thead th {\n",
              "        text-align: right;\n",
              "    }\n",
              "</style>\n",
              "<table border=\"1\" class=\"dataframe\">\n",
              "  <thead>\n",
              "    <tr style=\"text-align: right;\">\n",
              "      <th></th>\n",
              "      <th>order_no</th>\n",
              "      <th>user_id</th>\n",
              "      <th>vehicle_type</th>\n",
              "      <th>platform_type</th>\n",
              "      <th>personal_or_business</th>\n",
              "      <th>placement_day_of_month</th>\n",
              "      <th>placement_weekday</th>\n",
              "      <th>placement_time</th>\n",
              "      <th>confirmation_day_of_month</th>\n",
              "      <th>confirmation_weekday</th>\n",
              "      <th>confirmation_time</th>\n",
              "      <th>arrival_at_pickup_day_of_month</th>\n",
              "      <th>arrival_at_pickup_weekday</th>\n",
              "      <th>arrival_at_pickup_time</th>\n",
              "      <th>pickup_day_of_month</th>\n",
              "      <th>pickup_weekday</th>\n",
              "      <th>pickup_time</th>\n",
              "      <th>distance_km</th>\n",
              "      <th>temperature</th>\n",
              "      <th>pickup_lat</th>\n",
              "      <th>pickup_long</th>\n",
              "      <th>destination_lat</th>\n",
              "      <th>destination_long</th>\n",
              "      <th>rider_id</th>\n",
              "      <th>placement</th>\n",
              "      <th>confirmation</th>\n",
              "      <th>p_arrival</th>\n",
              "      <th>pickup</th>\n",
              "    </tr>\n",
              "  </thead>\n",
              "  <tbody>\n",
              "    <tr>\n",
              "      <th>0</th>\n",
              "      <td>Order_No_19248</td>\n",
              "      <td>User_Id_3355</td>\n",
              "      <td>Bike</td>\n",
              "      <td>3</td>\n",
              "      <td>0</td>\n",
              "      <td>27</td>\n",
              "      <td>3</td>\n",
              "      <td>16:44:10</td>\n",
              "      <td>27</td>\n",
              "      <td>3</td>\n",
              "      <td>16:44:29</td>\n",
              "      <td>27</td>\n",
              "      <td>3</td>\n",
              "      <td>16:53:04</td>\n",
              "      <td>27</td>\n",
              "      <td>3</td>\n",
              "      <td>17:06:47</td>\n",
              "      <td>8</td>\n",
              "      <td>23.24612</td>\n",
              "      <td>-1.333275</td>\n",
              "      <td>36.870815</td>\n",
              "      <td>-1.305249</td>\n",
              "      <td>36.822390</td>\n",
              "      <td>Rider_Id_192</td>\n",
              "      <td>60250</td>\n",
              "      <td>60269</td>\n",
              "      <td>60784</td>\n",
              "      <td>61607</td>\n",
              "    </tr>\n",
              "    <tr>\n",
              "      <th>1</th>\n",
              "      <td>Order_No_12736</td>\n",
              "      <td>User_Id_3647</td>\n",
              "      <td>Bike</td>\n",
              "      <td>3</td>\n",
              "      <td>0</td>\n",
              "      <td>17</td>\n",
              "      <td>5</td>\n",
              "      <td>12:57:35</td>\n",
              "      <td>17</td>\n",
              "      <td>5</td>\n",
              "      <td>12:59:17</td>\n",
              "      <td>17</td>\n",
              "      <td>5</td>\n",
              "      <td>13:20:27</td>\n",
              "      <td>17</td>\n",
              "      <td>5</td>\n",
              "      <td>13:25:37</td>\n",
              "      <td>5</td>\n",
              "      <td>23.24612</td>\n",
              "      <td>-1.272639</td>\n",
              "      <td>36.794723</td>\n",
              "      <td>-1.277007</td>\n",
              "      <td>36.823907</td>\n",
              "      <td>Rider_Id_868</td>\n",
              "      <td>46655</td>\n",
              "      <td>46757</td>\n",
              "      <td>48027</td>\n",
              "      <td>48337</td>\n",
              "    </tr>\n",
              "    <tr>\n",
              "      <th>2</th>\n",
              "      <td>Order_No_768</td>\n",
              "      <td>User_Id_2154</td>\n",
              "      <td>Bike</td>\n",
              "      <td>3</td>\n",
              "      <td>0</td>\n",
              "      <td>27</td>\n",
              "      <td>4</td>\n",
              "      <td>11:08:14</td>\n",
              "      <td>27</td>\n",
              "      <td>4</td>\n",
              "      <td>11:25:05</td>\n",
              "      <td>27</td>\n",
              "      <td>4</td>\n",
              "      <td>11:33:20</td>\n",
              "      <td>27</td>\n",
              "      <td>4</td>\n",
              "      <td>11:57:54</td>\n",
              "      <td>5</td>\n",
              "      <td>22.80000</td>\n",
              "      <td>-1.290894</td>\n",
              "      <td>36.822971</td>\n",
              "      <td>-1.276574</td>\n",
              "      <td>36.851365</td>\n",
              "      <td>Rider_Id_26</td>\n",
              "      <td>40094</td>\n",
              "      <td>41105</td>\n",
              "      <td>41600</td>\n",
              "      <td>43074</td>\n",
              "    </tr>\n",
              "    <tr>\n",
              "      <th>3</th>\n",
              "      <td>Order_No_15332</td>\n",
              "      <td>User_Id_2910</td>\n",
              "      <td>Bike</td>\n",
              "      <td>3</td>\n",
              "      <td>0</td>\n",
              "      <td>17</td>\n",
              "      <td>1</td>\n",
              "      <td>13:51:35</td>\n",
              "      <td>17</td>\n",
              "      <td>1</td>\n",
              "      <td>13:53:27</td>\n",
              "      <td>17</td>\n",
              "      <td>1</td>\n",
              "      <td>14:02:41</td>\n",
              "      <td>17</td>\n",
              "      <td>1</td>\n",
              "      <td>14:16:52</td>\n",
              "      <td>5</td>\n",
              "      <td>24.50000</td>\n",
              "      <td>-1.290503</td>\n",
              "      <td>36.809646</td>\n",
              "      <td>-1.303382</td>\n",
              "      <td>36.790658</td>\n",
              "      <td>Rider_Id_685</td>\n",
              "      <td>49895</td>\n",
              "      <td>50007</td>\n",
              "      <td>50561</td>\n",
              "      <td>51412</td>\n",
              "    </tr>\n",
              "    <tr>\n",
              "      <th>4</th>\n",
              "      <td>Order_No_21373</td>\n",
              "      <td>User_Id_1205</td>\n",
              "      <td>Bike</td>\n",
              "      <td>3</td>\n",
              "      <td>0</td>\n",
              "      <td>11</td>\n",
              "      <td>2</td>\n",
              "      <td>11:30:28</td>\n",
              "      <td>11</td>\n",
              "      <td>2</td>\n",
              "      <td>11:34:45</td>\n",
              "      <td>11</td>\n",
              "      <td>2</td>\n",
              "      <td>11:47:19</td>\n",
              "      <td>11</td>\n",
              "      <td>2</td>\n",
              "      <td>11:56:04</td>\n",
              "      <td>6</td>\n",
              "      <td>24.40000</td>\n",
              "      <td>-1.281081</td>\n",
              "      <td>36.814423</td>\n",
              "      <td>-1.266467</td>\n",
              "      <td>36.792161</td>\n",
              "      <td>Rider_Id_858</td>\n",
              "      <td>41428</td>\n",
              "      <td>41685</td>\n",
              "      <td>42439</td>\n",
              "      <td>42964</td>\n",
              "    </tr>\n",
              "  </tbody>\n",
              "</table>\n",
              "</div>"
            ],
            "text/plain": [
              "         order_no       user_id vehicle_type  ...  confirmation  p_arrival  pickup\n",
              "0  Order_No_19248  User_Id_3355         Bike  ...         60269      60784   61607\n",
              "1  Order_No_12736  User_Id_3647         Bike  ...         46757      48027   48337\n",
              "2    Order_No_768  User_Id_2154         Bike  ...         41105      41600   43074\n",
              "3  Order_No_15332  User_Id_2910         Bike  ...         50007      50561   51412\n",
              "4  Order_No_21373  User_Id_1205         Bike  ...         41685      42439   42964\n",
              "\n",
              "[5 rows x 28 columns]"
            ]
          },
          "metadata": {
            "tags": []
          },
          "execution_count": 9
        }
      ]
    },
    {
      "cell_type": "code",
      "metadata": {
        "id": "y8d2HCHESvQ_",
        "colab_type": "code",
        "outputId": "42832bf3-55b0-44e1-ffd4-524784c75dd4",
        "colab": {
          "base_uri": "https://localhost:8080/",
          "height": 208
        }
      },
      "source": [
        "train.columns"
      ],
      "execution_count": 0,
      "outputs": [
        {
          "output_type": "execute_result",
          "data": {
            "text/plain": [
              "Index(['platform_type', 'personal_or_business', 'placement_day_of_month',\n",
              "       'placement_weekday', 'confirmation_day_of_month',\n",
              "       'confirmation_weekday', 'arrival_at_pickup_day_of_month',\n",
              "       'arrival_at_pickup_weekday', 'pickup_day_of_month', 'pickup_weekday',\n",
              "       'distance_km', 'temperature', 'pickup_lat', 'pickup_long',\n",
              "       'destination_lat', 'destination_long', 'time_from_pickup_to_arrival',\n",
              "       'placement_stime', 'placement_ctime', 'confirmation_stime',\n",
              "       'confirmation_ctime', 'parrival_stime', 'parrival_ctime',\n",
              "       'pickup_stime', 'pickup_ctime', 'order_time', 'travel_time',\n",
              "       'waiting_time'],\n",
              "      dtype='object')"
            ]
          },
          "metadata": {
            "tags": []
          },
          "execution_count": 57
        }
      ]
    },
    {
      "cell_type": "code",
      "metadata": {
        "id": "Gttn5a5hhFP_",
        "colab_type": "code",
        "colab": {}
      },
      "source": [
        "# TRAIN\n",
        "#\n",
        "train['order_time'] = train.confirmation - train.placement\n",
        "train['travel_time'] = train.p_arrival - train.confirmation\n",
        "train['waiting_time'] = train.pickup - train.p_arrival\n"
      ],
      "execution_count": 0,
      "outputs": []
    },
    {
      "cell_type": "code",
      "metadata": {
        "id": "OIxSfChe_jZK",
        "colab_type": "code",
        "colab": {}
      },
      "source": [
        "# TEST\n",
        "#\n",
        "test['order_time'] = test.confirmation - test.placement\n",
        "test['travel_time'] = test.p_arrival - test.confirmation\n",
        "test['waiting_time'] = test.pickup - test.p_arrival"
      ],
      "execution_count": 0,
      "outputs": []
    },
    {
      "cell_type": "code",
      "metadata": {
        "id": "7CUqKV4IU3Bn",
        "colab_type": "code",
        "outputId": "c91abc11-74e5-4d78-a523-3bfe22634a64",
        "colab": {
          "base_uri": "https://localhost:8080/",
          "height": 215
        }
      },
      "source": [
        "train.head()"
      ],
      "execution_count": 0,
      "outputs": [
        {
          "output_type": "execute_result",
          "data": {
            "text/html": [
              "<div>\n",
              "<style scoped>\n",
              "    .dataframe tbody tr th:only-of-type {\n",
              "        vertical-align: middle;\n",
              "    }\n",
              "\n",
              "    .dataframe tbody tr th {\n",
              "        vertical-align: top;\n",
              "    }\n",
              "\n",
              "    .dataframe thead th {\n",
              "        text-align: right;\n",
              "    }\n",
              "</style>\n",
              "<table border=\"1\" class=\"dataframe\">\n",
              "  <thead>\n",
              "    <tr style=\"text-align: right;\">\n",
              "      <th></th>\n",
              "      <th>order_no</th>\n",
              "      <th>user_id</th>\n",
              "      <th>vehicle_type</th>\n",
              "      <th>platform_type</th>\n",
              "      <th>personal_or_business</th>\n",
              "      <th>placement_day_of_month</th>\n",
              "      <th>placement_weekday</th>\n",
              "      <th>placement_time</th>\n",
              "      <th>confirmation_day_of_month</th>\n",
              "      <th>confirmation_weekday</th>\n",
              "      <th>confirmation_time</th>\n",
              "      <th>arrival_at_pickup_day_of_month</th>\n",
              "      <th>arrival_at_pickup_weekday</th>\n",
              "      <th>arrival_at_pickup_time</th>\n",
              "      <th>pickup_day_of_month</th>\n",
              "      <th>pickup_weekday</th>\n",
              "      <th>pickup_time</th>\n",
              "      <th>arrival_at_destination_day_of_month</th>\n",
              "      <th>arrival_at_destination_weekday</th>\n",
              "      <th>arrival_at_destination_time</th>\n",
              "      <th>distance_km</th>\n",
              "      <th>temperature</th>\n",
              "      <th>pickup_lat</th>\n",
              "      <th>pickup_long</th>\n",
              "      <th>destination_lat</th>\n",
              "      <th>destination_long</th>\n",
              "      <th>rider_id</th>\n",
              "      <th>time_from_pickup_to_arrival</th>\n",
              "      <th>placement</th>\n",
              "      <th>confirmation</th>\n",
              "      <th>p_arrival</th>\n",
              "      <th>pickup</th>\n",
              "      <th>d_arrival</th>\n",
              "    </tr>\n",
              "  </thead>\n",
              "  <tbody>\n",
              "    <tr>\n",
              "      <th>0</th>\n",
              "      <td>Order_No_4211</td>\n",
              "      <td>User_Id_633</td>\n",
              "      <td>Bike</td>\n",
              "      <td>3</td>\n",
              "      <td>0</td>\n",
              "      <td>9</td>\n",
              "      <td>5</td>\n",
              "      <td>09:35:46</td>\n",
              "      <td>9</td>\n",
              "      <td>5</td>\n",
              "      <td>09:40:10</td>\n",
              "      <td>9</td>\n",
              "      <td>5</td>\n",
              "      <td>10:04:47</td>\n",
              "      <td>9</td>\n",
              "      <td>5</td>\n",
              "      <td>10:27:30</td>\n",
              "      <td>9</td>\n",
              "      <td>5</td>\n",
              "      <td>10:39:55</td>\n",
              "      <td>4</td>\n",
              "      <td>20.400000</td>\n",
              "      <td>-1.317755</td>\n",
              "      <td>36.830370</td>\n",
              "      <td>-1.300406</td>\n",
              "      <td>36.829741</td>\n",
              "      <td>Rider_Id_432</td>\n",
              "      <td>745</td>\n",
              "      <td>34546</td>\n",
              "      <td>34810</td>\n",
              "      <td>36287</td>\n",
              "      <td>37650</td>\n",
              "      <td>38395</td>\n",
              "    </tr>\n",
              "    <tr>\n",
              "      <th>1</th>\n",
              "      <td>Order_No_25375</td>\n",
              "      <td>User_Id_2285</td>\n",
              "      <td>Bike</td>\n",
              "      <td>3</td>\n",
              "      <td>1</td>\n",
              "      <td>12</td>\n",
              "      <td>5</td>\n",
              "      <td>11:16:16</td>\n",
              "      <td>12</td>\n",
              "      <td>5</td>\n",
              "      <td>11:23:21</td>\n",
              "      <td>12</td>\n",
              "      <td>5</td>\n",
              "      <td>11:40:22</td>\n",
              "      <td>12</td>\n",
              "      <td>5</td>\n",
              "      <td>11:44:09</td>\n",
              "      <td>12</td>\n",
              "      <td>5</td>\n",
              "      <td>12:17:22</td>\n",
              "      <td>16</td>\n",
              "      <td>26.400000</td>\n",
              "      <td>-1.351453</td>\n",
              "      <td>36.899315</td>\n",
              "      <td>-1.295004</td>\n",
              "      <td>36.814358</td>\n",
              "      <td>Rider_Id_856</td>\n",
              "      <td>1993</td>\n",
              "      <td>40576</td>\n",
              "      <td>41001</td>\n",
              "      <td>42022</td>\n",
              "      <td>42249</td>\n",
              "      <td>44242</td>\n",
              "    </tr>\n",
              "    <tr>\n",
              "      <th>2</th>\n",
              "      <td>Order_No_1899</td>\n",
              "      <td>User_Id_265</td>\n",
              "      <td>Bike</td>\n",
              "      <td>3</td>\n",
              "      <td>0</td>\n",
              "      <td>30</td>\n",
              "      <td>2</td>\n",
              "      <td>12:39:25</td>\n",
              "      <td>30</td>\n",
              "      <td>2</td>\n",
              "      <td>12:42:44</td>\n",
              "      <td>30</td>\n",
              "      <td>2</td>\n",
              "      <td>12:49:34</td>\n",
              "      <td>30</td>\n",
              "      <td>2</td>\n",
              "      <td>12:53:03</td>\n",
              "      <td>30</td>\n",
              "      <td>2</td>\n",
              "      <td>13:00:38</td>\n",
              "      <td>3</td>\n",
              "      <td>23.258889</td>\n",
              "      <td>-1.308284</td>\n",
              "      <td>36.843419</td>\n",
              "      <td>-1.300921</td>\n",
              "      <td>36.828195</td>\n",
              "      <td>Rider_Id_155</td>\n",
              "      <td>455</td>\n",
              "      <td>45565</td>\n",
              "      <td>45764</td>\n",
              "      <td>46174</td>\n",
              "      <td>46383</td>\n",
              "      <td>46838</td>\n",
              "    </tr>\n",
              "    <tr>\n",
              "      <th>3</th>\n",
              "      <td>Order_No_9336</td>\n",
              "      <td>User_Id_1402</td>\n",
              "      <td>Bike</td>\n",
              "      <td>3</td>\n",
              "      <td>0</td>\n",
              "      <td>15</td>\n",
              "      <td>5</td>\n",
              "      <td>09:25:34</td>\n",
              "      <td>15</td>\n",
              "      <td>5</td>\n",
              "      <td>09:26:05</td>\n",
              "      <td>15</td>\n",
              "      <td>5</td>\n",
              "      <td>09:37:56</td>\n",
              "      <td>15</td>\n",
              "      <td>5</td>\n",
              "      <td>09:43:06</td>\n",
              "      <td>15</td>\n",
              "      <td>5</td>\n",
              "      <td>10:05:27</td>\n",
              "      <td>9</td>\n",
              "      <td>19.200000</td>\n",
              "      <td>-1.281301</td>\n",
              "      <td>36.832396</td>\n",
              "      <td>-1.257147</td>\n",
              "      <td>36.795063</td>\n",
              "      <td>Rider_Id_855</td>\n",
              "      <td>1341</td>\n",
              "      <td>33934</td>\n",
              "      <td>33965</td>\n",
              "      <td>34676</td>\n",
              "      <td>34986</td>\n",
              "      <td>36327</td>\n",
              "    </tr>\n",
              "    <tr>\n",
              "      <th>4</th>\n",
              "      <td>Order_No_27883</td>\n",
              "      <td>User_Id_1737</td>\n",
              "      <td>Bike</td>\n",
              "      <td>1</td>\n",
              "      <td>1</td>\n",
              "      <td>13</td>\n",
              "      <td>1</td>\n",
              "      <td>09:55:18</td>\n",
              "      <td>13</td>\n",
              "      <td>1</td>\n",
              "      <td>09:56:18</td>\n",
              "      <td>13</td>\n",
              "      <td>1</td>\n",
              "      <td>10:03:53</td>\n",
              "      <td>13</td>\n",
              "      <td>1</td>\n",
              "      <td>10:05:23</td>\n",
              "      <td>13</td>\n",
              "      <td>1</td>\n",
              "      <td>10:25:37</td>\n",
              "      <td>9</td>\n",
              "      <td>15.400000</td>\n",
              "      <td>-1.266597</td>\n",
              "      <td>36.792118</td>\n",
              "      <td>-1.295041</td>\n",
              "      <td>36.809817</td>\n",
              "      <td>Rider_Id_770</td>\n",
              "      <td>1214</td>\n",
              "      <td>35718</td>\n",
              "      <td>35778</td>\n",
              "      <td>36233</td>\n",
              "      <td>36323</td>\n",
              "      <td>37537</td>\n",
              "    </tr>\n",
              "  </tbody>\n",
              "</table>\n",
              "</div>"
            ],
            "text/plain": [
              "         order_no       user_id vehicle_type  ...  p_arrival  pickup  d_arrival\n",
              "0   Order_No_4211   User_Id_633         Bike  ...      36287   37650      38395\n",
              "1  Order_No_25375  User_Id_2285         Bike  ...      42022   42249      44242\n",
              "2   Order_No_1899   User_Id_265         Bike  ...      46174   46383      46838\n",
              "3   Order_No_9336  User_Id_1402         Bike  ...      34676   34986      36327\n",
              "4  Order_No_27883  User_Id_1737         Bike  ...      36233   36323      37537\n",
              "\n",
              "[5 rows x 33 columns]"
            ]
          },
          "metadata": {
            "tags": []
          },
          "execution_count": 10
        }
      ]
    },
    {
      "cell_type": "code",
      "metadata": {
        "id": "IEgJkGWQwDra",
        "colab_type": "code",
        "outputId": "5fb4a3f9-0181-4f59-82ae-0f63e9a3dd6a",
        "colab": {
          "base_uri": "https://localhost:8080/",
          "height": 218
        }
      },
      "source": [
        "train.columns"
      ],
      "execution_count": 0,
      "outputs": [
        {
          "output_type": "execute_result",
          "data": {
            "text/plain": [
              "Index(['order_no', 'user_id', 'vehicle_type', 'platform_type',\n",
              "       'personal_or_business', 'placement_day_of_month', 'placement_weekday',\n",
              "       'placement_time', 'confirmation_day_of_month', 'confirmation_weekday',\n",
              "       'confirmation_time', 'arrival_at_pickup_day_of_month',\n",
              "       'arrival_at_pickup_weekday', 'arrival_at_pickup_time',\n",
              "       'pickup_day_of_month', 'pickup_weekday', 'pickup_time',\n",
              "       'arrival_at_destination_day_of_month', 'arrival_at_destination_weekday',\n",
              "       'arrival_at_destination_time', 'distance_km', 'temperature',\n",
              "       'pickup_lat', 'pickup_long', 'destination_lat', 'destination_long',\n",
              "       'rider_id', 'time_from_pickup_to_arrival', 'placement', 'confirmation',\n",
              "       'p_arrival', 'pickup', 'd_arrival'],\n",
              "      dtype='object')"
            ]
          },
          "metadata": {
            "tags": []
          },
          "execution_count": 29
        }
      ]
    },
    {
      "cell_type": "code",
      "metadata": {
        "id": "W5T56b-Qx3bz",
        "colab_type": "code",
        "outputId": "9685e0b2-7e6e-4425-db2b-187ebfda7c3f",
        "colab": {
          "base_uri": "https://localhost:8080/",
          "height": 215
        }
      },
      "source": [
        "test.head()"
      ],
      "execution_count": 0,
      "outputs": [
        {
          "output_type": "execute_result",
          "data": {
            "text/html": [
              "<div>\n",
              "<style scoped>\n",
              "    .dataframe tbody tr th:only-of-type {\n",
              "        vertical-align: middle;\n",
              "    }\n",
              "\n",
              "    .dataframe tbody tr th {\n",
              "        vertical-align: top;\n",
              "    }\n",
              "\n",
              "    .dataframe thead th {\n",
              "        text-align: right;\n",
              "    }\n",
              "</style>\n",
              "<table border=\"1\" class=\"dataframe\">\n",
              "  <thead>\n",
              "    <tr style=\"text-align: right;\">\n",
              "      <th></th>\n",
              "      <th>order_no</th>\n",
              "      <th>user_id</th>\n",
              "      <th>vehicle_type</th>\n",
              "      <th>platform_type</th>\n",
              "      <th>personal_or_business</th>\n",
              "      <th>placement_day_of_month</th>\n",
              "      <th>placement_weekday</th>\n",
              "      <th>placement_time</th>\n",
              "      <th>confirmation_day_of_month</th>\n",
              "      <th>confirmation_weekday</th>\n",
              "      <th>confirmation_time</th>\n",
              "      <th>arrival_at_pickup_day_of_month</th>\n",
              "      <th>arrival_at_pickup_weekday</th>\n",
              "      <th>arrival_at_pickup_time</th>\n",
              "      <th>pickup_day_of_month</th>\n",
              "      <th>pickup_weekday</th>\n",
              "      <th>pickup_time</th>\n",
              "      <th>distance_km</th>\n",
              "      <th>temperature</th>\n",
              "      <th>pickup_lat</th>\n",
              "      <th>pickup_long</th>\n",
              "      <th>destination_lat</th>\n",
              "      <th>destination_long</th>\n",
              "      <th>rider_id</th>\n",
              "      <th>placement</th>\n",
              "      <th>confirmation</th>\n",
              "      <th>p_arrival</th>\n",
              "      <th>pickup</th>\n",
              "    </tr>\n",
              "  </thead>\n",
              "  <tbody>\n",
              "    <tr>\n",
              "      <th>0</th>\n",
              "      <td>Order_No_19248</td>\n",
              "      <td>User_Id_3355</td>\n",
              "      <td>Bike</td>\n",
              "      <td>3</td>\n",
              "      <td>0</td>\n",
              "      <td>27</td>\n",
              "      <td>3</td>\n",
              "      <td>16:44:10</td>\n",
              "      <td>27</td>\n",
              "      <td>3</td>\n",
              "      <td>16:44:29</td>\n",
              "      <td>27</td>\n",
              "      <td>3</td>\n",
              "      <td>16:53:04</td>\n",
              "      <td>27</td>\n",
              "      <td>3</td>\n",
              "      <td>17:06:47</td>\n",
              "      <td>8</td>\n",
              "      <td>23.24612</td>\n",
              "      <td>-1.333275</td>\n",
              "      <td>36.870815</td>\n",
              "      <td>-1.305249</td>\n",
              "      <td>36.822390</td>\n",
              "      <td>Rider_Id_192</td>\n",
              "      <td>60250</td>\n",
              "      <td>60269</td>\n",
              "      <td>60784</td>\n",
              "      <td>61607</td>\n",
              "    </tr>\n",
              "    <tr>\n",
              "      <th>1</th>\n",
              "      <td>Order_No_12736</td>\n",
              "      <td>User_Id_3647</td>\n",
              "      <td>Bike</td>\n",
              "      <td>3</td>\n",
              "      <td>0</td>\n",
              "      <td>17</td>\n",
              "      <td>5</td>\n",
              "      <td>12:57:35</td>\n",
              "      <td>17</td>\n",
              "      <td>5</td>\n",
              "      <td>12:59:17</td>\n",
              "      <td>17</td>\n",
              "      <td>5</td>\n",
              "      <td>13:20:27</td>\n",
              "      <td>17</td>\n",
              "      <td>5</td>\n",
              "      <td>13:25:37</td>\n",
              "      <td>5</td>\n",
              "      <td>23.24612</td>\n",
              "      <td>-1.272639</td>\n",
              "      <td>36.794723</td>\n",
              "      <td>-1.277007</td>\n",
              "      <td>36.823907</td>\n",
              "      <td>Rider_Id_868</td>\n",
              "      <td>46655</td>\n",
              "      <td>46757</td>\n",
              "      <td>48027</td>\n",
              "      <td>48337</td>\n",
              "    </tr>\n",
              "    <tr>\n",
              "      <th>2</th>\n",
              "      <td>Order_No_768</td>\n",
              "      <td>User_Id_2154</td>\n",
              "      <td>Bike</td>\n",
              "      <td>3</td>\n",
              "      <td>0</td>\n",
              "      <td>27</td>\n",
              "      <td>4</td>\n",
              "      <td>11:08:14</td>\n",
              "      <td>27</td>\n",
              "      <td>4</td>\n",
              "      <td>11:25:05</td>\n",
              "      <td>27</td>\n",
              "      <td>4</td>\n",
              "      <td>11:33:20</td>\n",
              "      <td>27</td>\n",
              "      <td>4</td>\n",
              "      <td>11:57:54</td>\n",
              "      <td>5</td>\n",
              "      <td>22.80000</td>\n",
              "      <td>-1.290894</td>\n",
              "      <td>36.822971</td>\n",
              "      <td>-1.276574</td>\n",
              "      <td>36.851365</td>\n",
              "      <td>Rider_Id_26</td>\n",
              "      <td>40094</td>\n",
              "      <td>41105</td>\n",
              "      <td>41600</td>\n",
              "      <td>43074</td>\n",
              "    </tr>\n",
              "    <tr>\n",
              "      <th>3</th>\n",
              "      <td>Order_No_15332</td>\n",
              "      <td>User_Id_2910</td>\n",
              "      <td>Bike</td>\n",
              "      <td>3</td>\n",
              "      <td>0</td>\n",
              "      <td>17</td>\n",
              "      <td>1</td>\n",
              "      <td>13:51:35</td>\n",
              "      <td>17</td>\n",
              "      <td>1</td>\n",
              "      <td>13:53:27</td>\n",
              "      <td>17</td>\n",
              "      <td>1</td>\n",
              "      <td>14:02:41</td>\n",
              "      <td>17</td>\n",
              "      <td>1</td>\n",
              "      <td>14:16:52</td>\n",
              "      <td>5</td>\n",
              "      <td>24.50000</td>\n",
              "      <td>-1.290503</td>\n",
              "      <td>36.809646</td>\n",
              "      <td>-1.303382</td>\n",
              "      <td>36.790658</td>\n",
              "      <td>Rider_Id_685</td>\n",
              "      <td>49895</td>\n",
              "      <td>50007</td>\n",
              "      <td>50561</td>\n",
              "      <td>51412</td>\n",
              "    </tr>\n",
              "    <tr>\n",
              "      <th>4</th>\n",
              "      <td>Order_No_21373</td>\n",
              "      <td>User_Id_1205</td>\n",
              "      <td>Bike</td>\n",
              "      <td>3</td>\n",
              "      <td>0</td>\n",
              "      <td>11</td>\n",
              "      <td>2</td>\n",
              "      <td>11:30:28</td>\n",
              "      <td>11</td>\n",
              "      <td>2</td>\n",
              "      <td>11:34:45</td>\n",
              "      <td>11</td>\n",
              "      <td>2</td>\n",
              "      <td>11:47:19</td>\n",
              "      <td>11</td>\n",
              "      <td>2</td>\n",
              "      <td>11:56:04</td>\n",
              "      <td>6</td>\n",
              "      <td>24.40000</td>\n",
              "      <td>-1.281081</td>\n",
              "      <td>36.814423</td>\n",
              "      <td>-1.266467</td>\n",
              "      <td>36.792161</td>\n",
              "      <td>Rider_Id_858</td>\n",
              "      <td>41428</td>\n",
              "      <td>41685</td>\n",
              "      <td>42439</td>\n",
              "      <td>42964</td>\n",
              "    </tr>\n",
              "  </tbody>\n",
              "</table>\n",
              "</div>"
            ],
            "text/plain": [
              "         order_no       user_id vehicle_type  ...  confirmation  p_arrival  pickup\n",
              "0  Order_No_19248  User_Id_3355         Bike  ...         60269      60784   61607\n",
              "1  Order_No_12736  User_Id_3647         Bike  ...         46757      48027   48337\n",
              "2    Order_No_768  User_Id_2154         Bike  ...         41105      41600   43074\n",
              "3  Order_No_15332  User_Id_2910         Bike  ...         50007      50561   51412\n",
              "4  Order_No_21373  User_Id_1205         Bike  ...         41685      42439   42964\n",
              "\n",
              "[5 rows x 28 columns]"
            ]
          },
          "metadata": {
            "tags": []
          },
          "execution_count": 12
        }
      ]
    },
    {
      "cell_type": "code",
      "metadata": {
        "id": "QtXs46zoxxfc",
        "colab_type": "code",
        "colab": {}
      },
      "source": [
        "droppers = ['order_no', 'user_id', 'vehicle_type', 'rider_id', 'placement', 'confirmation',\n",
        "       'p_arrival', 'pickup', 'd_arrival', 'placement_time','confirmation_time','arrival_at_pickup_time', 'pickup_time','arrival_at_destination_day_of_month','arrival_at_destination_weekday', 'arrival_at_destination_time','darrival_stime','darrival_ctime']\n",
        "train.drop(droppers, axis = 1, inplace = True)"
      ],
      "execution_count": 0,
      "outputs": []
    },
    {
      "cell_type": "code",
      "metadata": {
        "id": "eaGrkj2lzz0H",
        "colab_type": "code",
        "colab": {}
      },
      "source": [
        "dropping = ['order_no', 'user_id', 'vehicle_type', 'rider_id', 'placement', 'confirmation',\n",
        "       'p_arrival', 'pickup', 'placement_time','confirmation_time','arrival_at_pickup_time', 'pickup_time']\n",
        "to_test = test.drop(dropping, axis = 1)"
      ],
      "execution_count": 0,
      "outputs": []
    },
    {
      "cell_type": "code",
      "metadata": {
        "id": "oNy5xiyUYclA",
        "colab_type": "code",
        "outputId": "9349c21f-c87b-4d27-f96f-c256cc03b56b",
        "colab": {
          "base_uri": "https://localhost:8080/",
          "height": 222
        }
      },
      "source": [
        "to_test.head()"
      ],
      "execution_count": 0,
      "outputs": [
        {
          "output_type": "execute_result",
          "data": {
            "text/html": [
              "<div>\n",
              "<style scoped>\n",
              "    .dataframe tbody tr th:only-of-type {\n",
              "        vertical-align: middle;\n",
              "    }\n",
              "\n",
              "    .dataframe tbody tr th {\n",
              "        vertical-align: top;\n",
              "    }\n",
              "\n",
              "    .dataframe thead th {\n",
              "        text-align: right;\n",
              "    }\n",
              "</style>\n",
              "<table border=\"1\" class=\"dataframe\">\n",
              "  <thead>\n",
              "    <tr style=\"text-align: right;\">\n",
              "      <th></th>\n",
              "      <th>platform_type</th>\n",
              "      <th>personal_or_business</th>\n",
              "      <th>placement_day_of_month</th>\n",
              "      <th>placement_weekday</th>\n",
              "      <th>confirmation_day_of_month</th>\n",
              "      <th>confirmation_weekday</th>\n",
              "      <th>arrival_at_pickup_day_of_month</th>\n",
              "      <th>arrival_at_pickup_weekday</th>\n",
              "      <th>pickup_day_of_month</th>\n",
              "      <th>pickup_weekday</th>\n",
              "      <th>distance_km</th>\n",
              "      <th>temperature</th>\n",
              "      <th>pickup_lat</th>\n",
              "      <th>pickup_long</th>\n",
              "      <th>destination_lat</th>\n",
              "      <th>destination_long</th>\n",
              "      <th>placement_stime</th>\n",
              "      <th>placement_ctime</th>\n",
              "      <th>confirmation_stime</th>\n",
              "      <th>confirmation_ctime</th>\n",
              "      <th>parrival_stime</th>\n",
              "      <th>parrival_ctime</th>\n",
              "      <th>pickup_stime</th>\n",
              "      <th>pickup_ctime</th>\n",
              "      <th>order_time</th>\n",
              "      <th>travel_time</th>\n",
              "      <th>waiting_time</th>\n",
              "    </tr>\n",
              "  </thead>\n",
              "  <tbody>\n",
              "    <tr>\n",
              "      <th>0</th>\n",
              "      <td>3</td>\n",
              "      <td>0</td>\n",
              "      <td>27</td>\n",
              "      <td>3</td>\n",
              "      <td>27</td>\n",
              "      <td>3</td>\n",
              "      <td>27</td>\n",
              "      <td>3</td>\n",
              "      <td>27</td>\n",
              "      <td>3</td>\n",
              "      <td>8</td>\n",
              "      <td>23.24612</td>\n",
              "      <td>-1.333275</td>\n",
              "      <td>36.870815</td>\n",
              "      <td>-1.305249</td>\n",
              "      <td>36.822390</td>\n",
              "      <td>-0.945755</td>\n",
              "      <td>-0.324880</td>\n",
              "      <td>-0.946203</td>\n",
              "      <td>-0.323573</td>\n",
              "      <td>-0.957655</td>\n",
              "      <td>-0.287918</td>\n",
              "      <td>-0.973162</td>\n",
              "      <td>-0.230121</td>\n",
              "      <td>19</td>\n",
              "      <td>515</td>\n",
              "      <td>823</td>\n",
              "    </tr>\n",
              "    <tr>\n",
              "      <th>1</th>\n",
              "      <td>3</td>\n",
              "      <td>0</td>\n",
              "      <td>17</td>\n",
              "      <td>5</td>\n",
              "      <td>17</td>\n",
              "      <td>5</td>\n",
              "      <td>17</td>\n",
              "      <td>5</td>\n",
              "      <td>17</td>\n",
              "      <td>5</td>\n",
              "      <td>5</td>\n",
              "      <td>23.24612</td>\n",
              "      <td>-1.272639</td>\n",
              "      <td>36.794723</td>\n",
              "      <td>-1.277007</td>\n",
              "      <td>36.823907</td>\n",
              "      <td>-0.248619</td>\n",
              "      <td>-0.968601</td>\n",
              "      <td>-0.255797</td>\n",
              "      <td>-0.966730</td>\n",
              "      <td>-0.343865</td>\n",
              "      <td>-0.939019</td>\n",
              "      <td>-0.364944</td>\n",
              "      <td>-0.931029</td>\n",
              "      <td>102</td>\n",
              "      <td>1270</td>\n",
              "      <td>310</td>\n",
              "    </tr>\n",
              "    <tr>\n",
              "      <th>2</th>\n",
              "      <td>3</td>\n",
              "      <td>0</td>\n",
              "      <td>27</td>\n",
              "      <td>4</td>\n",
              "      <td>27</td>\n",
              "      <td>4</td>\n",
              "      <td>27</td>\n",
              "      <td>4</td>\n",
              "      <td>27</td>\n",
              "      <td>4</td>\n",
              "      <td>5</td>\n",
              "      <td>22.80000</td>\n",
              "      <td>-1.290894</td>\n",
              "      <td>36.822971</td>\n",
              "      <td>-1.276574</td>\n",
              "      <td>36.851365</td>\n",
              "      <td>0.223959</td>\n",
              "      <td>-0.974599</td>\n",
              "      <td>0.151764</td>\n",
              "      <td>-0.988417</td>\n",
              "      <td>0.116093</td>\n",
              "      <td>-0.993238</td>\n",
              "      <td>0.009163</td>\n",
              "      <td>-0.999958</td>\n",
              "      <td>1011</td>\n",
              "      <td>495</td>\n",
              "      <td>1474</td>\n",
              "    </tr>\n",
              "    <tr>\n",
              "      <th>3</th>\n",
              "      <td>3</td>\n",
              "      <td>0</td>\n",
              "      <td>17</td>\n",
              "      <td>1</td>\n",
              "      <td>17</td>\n",
              "      <td>1</td>\n",
              "      <td>17</td>\n",
              "      <td>1</td>\n",
              "      <td>17</td>\n",
              "      <td>1</td>\n",
              "      <td>5</td>\n",
              "      <td>24.50000</td>\n",
              "      <td>-1.290503</td>\n",
              "      <td>36.809646</td>\n",
              "      <td>-1.303382</td>\n",
              "      <td>36.790658</td>\n",
              "      <td>-0.467866</td>\n",
              "      <td>-0.883800</td>\n",
              "      <td>-0.475048</td>\n",
              "      <td>-0.879960</td>\n",
              "      <td>-0.510105</td>\n",
              "      <td>-0.860112</td>\n",
              "      <td>-0.562324</td>\n",
              "      <td>-0.826917</td>\n",
              "      <td>112</td>\n",
              "      <td>554</td>\n",
              "      <td>851</td>\n",
              "    </tr>\n",
              "    <tr>\n",
              "      <th>4</th>\n",
              "      <td>3</td>\n",
              "      <td>0</td>\n",
              "      <td>11</td>\n",
              "      <td>2</td>\n",
              "      <td>11</td>\n",
              "      <td>2</td>\n",
              "      <td>11</td>\n",
              "      <td>2</td>\n",
              "      <td>11</td>\n",
              "      <td>2</td>\n",
              "      <td>6</td>\n",
              "      <td>24.40000</td>\n",
              "      <td>-1.281081</td>\n",
              "      <td>36.814423</td>\n",
              "      <td>-1.266467</td>\n",
              "      <td>36.792161</td>\n",
              "      <td>0.128507</td>\n",
              "      <td>-0.991709</td>\n",
              "      <td>0.109951</td>\n",
              "      <td>-0.993937</td>\n",
              "      <td>0.055313</td>\n",
              "      <td>-0.998469</td>\n",
              "      <td>0.017162</td>\n",
              "      <td>-0.999853</td>\n",
              "      <td>257</td>\n",
              "      <td>754</td>\n",
              "      <td>525</td>\n",
              "    </tr>\n",
              "  </tbody>\n",
              "</table>\n",
              "</div>"
            ],
            "text/plain": [
              "   platform_type  personal_or_business  ...  travel_time  waiting_time\n",
              "0              3                     0  ...          515           823\n",
              "1              3                     0  ...         1270           310\n",
              "2              3                     0  ...          495          1474\n",
              "3              3                     0  ...          554           851\n",
              "4              3                     0  ...          754           525\n",
              "\n",
              "[5 rows x 27 columns]"
            ]
          },
          "metadata": {
            "tags": []
          },
          "execution_count": 117
        }
      ]
    },
    {
      "cell_type": "code",
      "metadata": {
        "id": "HSbWJ1LHTVhg",
        "colab_type": "code",
        "outputId": "d67774ee-5f6a-4900-a705-77b7374e9d36",
        "colab": {
          "base_uri": "https://localhost:8080/",
          "height": 222
        }
      },
      "source": [
        "train.head()"
      ],
      "execution_count": 0,
      "outputs": [
        {
          "output_type": "execute_result",
          "data": {
            "text/html": [
              "<div>\n",
              "<style scoped>\n",
              "    .dataframe tbody tr th:only-of-type {\n",
              "        vertical-align: middle;\n",
              "    }\n",
              "\n",
              "    .dataframe tbody tr th {\n",
              "        vertical-align: top;\n",
              "    }\n",
              "\n",
              "    .dataframe thead th {\n",
              "        text-align: right;\n",
              "    }\n",
              "</style>\n",
              "<table border=\"1\" class=\"dataframe\">\n",
              "  <thead>\n",
              "    <tr style=\"text-align: right;\">\n",
              "      <th></th>\n",
              "      <th>platform_type</th>\n",
              "      <th>personal_or_business</th>\n",
              "      <th>placement_day_of_month</th>\n",
              "      <th>placement_weekday</th>\n",
              "      <th>confirmation_day_of_month</th>\n",
              "      <th>confirmation_weekday</th>\n",
              "      <th>arrival_at_pickup_day_of_month</th>\n",
              "      <th>arrival_at_pickup_weekday</th>\n",
              "      <th>pickup_day_of_month</th>\n",
              "      <th>pickup_weekday</th>\n",
              "      <th>arrival_at_destination_day_of_month</th>\n",
              "      <th>arrival_at_destination_weekday</th>\n",
              "      <th>distance_km</th>\n",
              "      <th>temperature</th>\n",
              "      <th>pickup_lat</th>\n",
              "      <th>pickup_long</th>\n",
              "      <th>destination_lat</th>\n",
              "      <th>destination_long</th>\n",
              "      <th>placement_stime</th>\n",
              "      <th>placement_ctime</th>\n",
              "      <th>confirmation_stime</th>\n",
              "      <th>confirmation_ctime</th>\n",
              "      <th>parrival_stime</th>\n",
              "      <th>parrival_ctime</th>\n",
              "      <th>pickup_stime</th>\n",
              "      <th>pickup_ctime</th>\n",
              "      <th>darrival_stime</th>\n",
              "      <th>darrival_ctime</th>\n",
              "      <th>order_time</th>\n",
              "      <th>travel_time</th>\n",
              "      <th>waiting_time</th>\n",
              "    </tr>\n",
              "  </thead>\n",
              "  <tbody>\n",
              "    <tr>\n",
              "      <th>0</th>\n",
              "      <td>3</td>\n",
              "      <td>0</td>\n",
              "      <td>9</td>\n",
              "      <td>5</td>\n",
              "      <td>9</td>\n",
              "      <td>5</td>\n",
              "      <td>9</td>\n",
              "      <td>5</td>\n",
              "      <td>9</td>\n",
              "      <td>5</td>\n",
              "      <td>9</td>\n",
              "      <td>5</td>\n",
              "      <td>4</td>\n",
              "      <td>20.400000</td>\n",
              "      <td>-1.317755</td>\n",
              "      <td>36.830370</td>\n",
              "      <td>-1.300406</td>\n",
              "      <td>36.829741</td>\n",
              "      <td>0.588609</td>\n",
              "      <td>-0.808418</td>\n",
              "      <td>0.572981</td>\n",
              "      <td>-0.819569</td>\n",
              "      <td>0.481817</td>\n",
              "      <td>-0.876272</td>\n",
              "      <td>0.392738</td>\n",
              "      <td>-0.919650</td>\n",
              "      <td>0.342362</td>\n",
              "      <td>-0.939568</td>\n",
              "      <td>264</td>\n",
              "      <td>1477</td>\n",
              "      <td>1363</td>\n",
              "    </tr>\n",
              "    <tr>\n",
              "      <th>1</th>\n",
              "      <td>3</td>\n",
              "      <td>1</td>\n",
              "      <td>12</td>\n",
              "      <td>5</td>\n",
              "      <td>12</td>\n",
              "      <td>5</td>\n",
              "      <td>12</td>\n",
              "      <td>5</td>\n",
              "      <td>12</td>\n",
              "      <td>5</td>\n",
              "      <td>12</td>\n",
              "      <td>5</td>\n",
              "      <td>16</td>\n",
              "      <td>26.400000</td>\n",
              "      <td>-1.351453</td>\n",
              "      <td>36.899315</td>\n",
              "      <td>-1.295004</td>\n",
              "      <td>36.814358</td>\n",
              "      <td>0.189667</td>\n",
              "      <td>-0.981849</td>\n",
              "      <td>0.159235</td>\n",
              "      <td>-0.987241</td>\n",
              "      <td>0.085562</td>\n",
              "      <td>-0.996333</td>\n",
              "      <td>0.069104</td>\n",
              "      <td>-0.997609</td>\n",
              "      <td>-0.075704</td>\n",
              "      <td>-0.997130</td>\n",
              "      <td>425</td>\n",
              "      <td>1021</td>\n",
              "      <td>227</td>\n",
              "    </tr>\n",
              "    <tr>\n",
              "      <th>2</th>\n",
              "      <td>3</td>\n",
              "      <td>0</td>\n",
              "      <td>30</td>\n",
              "      <td>2</td>\n",
              "      <td>30</td>\n",
              "      <td>2</td>\n",
              "      <td>30</td>\n",
              "      <td>2</td>\n",
              "      <td>30</td>\n",
              "      <td>2</td>\n",
              "      <td>30</td>\n",
              "      <td>2</td>\n",
              "      <td>3</td>\n",
              "      <td>23.258889</td>\n",
              "      <td>-1.308284</td>\n",
              "      <td>36.843419</td>\n",
              "      <td>-1.300921</td>\n",
              "      <td>36.828195</td>\n",
              "      <td>-0.171141</td>\n",
              "      <td>-0.985247</td>\n",
              "      <td>-0.185381</td>\n",
              "      <td>-0.982667</td>\n",
              "      <td>-0.214593</td>\n",
              "      <td>-0.976703</td>\n",
              "      <td>-0.229413</td>\n",
              "      <td>-0.973329</td>\n",
              "      <td>-0.261487</td>\n",
              "      <td>-0.965207</td>\n",
              "      <td>199</td>\n",
              "      <td>410</td>\n",
              "      <td>209</td>\n",
              "    </tr>\n",
              "    <tr>\n",
              "      <th>3</th>\n",
              "      <td>3</td>\n",
              "      <td>0</td>\n",
              "      <td>15</td>\n",
              "      <td>5</td>\n",
              "      <td>15</td>\n",
              "      <td>5</td>\n",
              "      <td>15</td>\n",
              "      <td>5</td>\n",
              "      <td>15</td>\n",
              "      <td>5</td>\n",
              "      <td>15</td>\n",
              "      <td>5</td>\n",
              "      <td>9</td>\n",
              "      <td>19.200000</td>\n",
              "      <td>-1.281301</td>\n",
              "      <td>36.832396</td>\n",
              "      <td>-1.257147</td>\n",
              "      <td>36.795063</td>\n",
              "      <td>0.623993</td>\n",
              "      <td>-0.781430</td>\n",
              "      <td>0.622230</td>\n",
              "      <td>-0.782834</td>\n",
              "      <td>0.580940</td>\n",
              "      <td>-0.813947</td>\n",
              "      <td>0.562444</td>\n",
              "      <td>-0.826835</td>\n",
              "      <td>0.479266</td>\n",
              "      <td>-0.877669</td>\n",
              "      <td>31</td>\n",
              "      <td>711</td>\n",
              "      <td>310</td>\n",
              "    </tr>\n",
              "    <tr>\n",
              "      <th>4</th>\n",
              "      <td>1</td>\n",
              "      <td>1</td>\n",
              "      <td>13</td>\n",
              "      <td>1</td>\n",
              "      <td>13</td>\n",
              "      <td>1</td>\n",
              "      <td>13</td>\n",
              "      <td>1</td>\n",
              "      <td>13</td>\n",
              "      <td>1</td>\n",
              "      <td>13</td>\n",
              "      <td>1</td>\n",
              "      <td>9</td>\n",
              "      <td>15.400000</td>\n",
              "      <td>-1.266597</td>\n",
              "      <td>36.792118</td>\n",
              "      <td>-1.295041</td>\n",
              "      <td>36.809817</td>\n",
              "      <td>0.517654</td>\n",
              "      <td>-0.855590</td>\n",
              "      <td>0.513916</td>\n",
              "      <td>-0.857841</td>\n",
              "      <td>0.485255</td>\n",
              "      <td>-0.874373</td>\n",
              "      <td>0.479522</td>\n",
              "      <td>-0.877530</td>\n",
              "      <td>0.400282</td>\n",
              "      <td>-0.916392</td>\n",
              "      <td>60</td>\n",
              "      <td>455</td>\n",
              "      <td>90</td>\n",
              "    </tr>\n",
              "  </tbody>\n",
              "</table>\n",
              "</div>"
            ],
            "text/plain": [
              "   platform_type  personal_or_business  ...  travel_time  waiting_time\n",
              "0              3                     0  ...         1477          1363\n",
              "1              3                     1  ...         1021           227\n",
              "2              3                     0  ...          410           209\n",
              "3              3                     0  ...          711           310\n",
              "4              1                     1  ...          455            90\n",
              "\n",
              "[5 rows x 31 columns]"
            ]
          },
          "metadata": {
            "tags": []
          },
          "execution_count": 31
        }
      ]
    },
    {
      "cell_type": "code",
      "metadata": {
        "id": "xmlAFwbKAK85",
        "colab_type": "code",
        "outputId": "aec8e405-9968-4588-d5f2-c5201853f551",
        "colab": {
          "base_uri": "https://localhost:8080/",
          "height": 222
        }
      },
      "source": [
        "test.head()"
      ],
      "execution_count": 0,
      "outputs": [
        {
          "output_type": "execute_result",
          "data": {
            "text/html": [
              "<div>\n",
              "<style scoped>\n",
              "    .dataframe tbody tr th:only-of-type {\n",
              "        vertical-align: middle;\n",
              "    }\n",
              "\n",
              "    .dataframe tbody tr th {\n",
              "        vertical-align: top;\n",
              "    }\n",
              "\n",
              "    .dataframe thead th {\n",
              "        text-align: right;\n",
              "    }\n",
              "</style>\n",
              "<table border=\"1\" class=\"dataframe\">\n",
              "  <thead>\n",
              "    <tr style=\"text-align: right;\">\n",
              "      <th></th>\n",
              "      <th>platform_type</th>\n",
              "      <th>personal_or_business</th>\n",
              "      <th>placement_day_of_month</th>\n",
              "      <th>placement_weekday</th>\n",
              "      <th>confirmation_day_of_month</th>\n",
              "      <th>confirmation_weekday</th>\n",
              "      <th>arrival_at_pickup_day_of_month</th>\n",
              "      <th>arrival_at_pickup_weekday</th>\n",
              "      <th>pickup_day_of_month</th>\n",
              "      <th>pickup_weekday</th>\n",
              "      <th>distance_km</th>\n",
              "      <th>temperature</th>\n",
              "      <th>pickup_lat</th>\n",
              "      <th>pickup_long</th>\n",
              "      <th>destination_lat</th>\n",
              "      <th>destination_long</th>\n",
              "      <th>placement_stime</th>\n",
              "      <th>placement_ctime</th>\n",
              "      <th>confirmation_stime</th>\n",
              "      <th>confirmation_ctime</th>\n",
              "      <th>parrival_stime</th>\n",
              "      <th>parrival_ctime</th>\n",
              "      <th>pickup_stime</th>\n",
              "      <th>pickup_ctime</th>\n",
              "    </tr>\n",
              "  </thead>\n",
              "  <tbody>\n",
              "    <tr>\n",
              "      <th>0</th>\n",
              "      <td>3</td>\n",
              "      <td>0</td>\n",
              "      <td>27</td>\n",
              "      <td>3</td>\n",
              "      <td>27</td>\n",
              "      <td>3</td>\n",
              "      <td>27</td>\n",
              "      <td>3</td>\n",
              "      <td>27</td>\n",
              "      <td>3</td>\n",
              "      <td>8</td>\n",
              "      <td>23.24612</td>\n",
              "      <td>-1.333275</td>\n",
              "      <td>36.870815</td>\n",
              "      <td>-1.305249</td>\n",
              "      <td>36.822390</td>\n",
              "      <td>-0.945755</td>\n",
              "      <td>-0.324880</td>\n",
              "      <td>-0.946203</td>\n",
              "      <td>-0.323573</td>\n",
              "      <td>-0.957655</td>\n",
              "      <td>-0.287918</td>\n",
              "      <td>-0.973162</td>\n",
              "      <td>-0.230121</td>\n",
              "    </tr>\n",
              "    <tr>\n",
              "      <th>1</th>\n",
              "      <td>3</td>\n",
              "      <td>0</td>\n",
              "      <td>17</td>\n",
              "      <td>5</td>\n",
              "      <td>17</td>\n",
              "      <td>5</td>\n",
              "      <td>17</td>\n",
              "      <td>5</td>\n",
              "      <td>17</td>\n",
              "      <td>5</td>\n",
              "      <td>5</td>\n",
              "      <td>23.24612</td>\n",
              "      <td>-1.272639</td>\n",
              "      <td>36.794723</td>\n",
              "      <td>-1.277007</td>\n",
              "      <td>36.823907</td>\n",
              "      <td>-0.248619</td>\n",
              "      <td>-0.968601</td>\n",
              "      <td>-0.255797</td>\n",
              "      <td>-0.966730</td>\n",
              "      <td>-0.343865</td>\n",
              "      <td>-0.939019</td>\n",
              "      <td>-0.364944</td>\n",
              "      <td>-0.931029</td>\n",
              "    </tr>\n",
              "    <tr>\n",
              "      <th>2</th>\n",
              "      <td>3</td>\n",
              "      <td>0</td>\n",
              "      <td>27</td>\n",
              "      <td>4</td>\n",
              "      <td>27</td>\n",
              "      <td>4</td>\n",
              "      <td>27</td>\n",
              "      <td>4</td>\n",
              "      <td>27</td>\n",
              "      <td>4</td>\n",
              "      <td>5</td>\n",
              "      <td>22.80000</td>\n",
              "      <td>-1.290894</td>\n",
              "      <td>36.822971</td>\n",
              "      <td>-1.276574</td>\n",
              "      <td>36.851365</td>\n",
              "      <td>0.223959</td>\n",
              "      <td>-0.974599</td>\n",
              "      <td>0.151764</td>\n",
              "      <td>-0.988417</td>\n",
              "      <td>0.116093</td>\n",
              "      <td>-0.993238</td>\n",
              "      <td>0.009163</td>\n",
              "      <td>-0.999958</td>\n",
              "    </tr>\n",
              "    <tr>\n",
              "      <th>3</th>\n",
              "      <td>3</td>\n",
              "      <td>0</td>\n",
              "      <td>17</td>\n",
              "      <td>1</td>\n",
              "      <td>17</td>\n",
              "      <td>1</td>\n",
              "      <td>17</td>\n",
              "      <td>1</td>\n",
              "      <td>17</td>\n",
              "      <td>1</td>\n",
              "      <td>5</td>\n",
              "      <td>24.50000</td>\n",
              "      <td>-1.290503</td>\n",
              "      <td>36.809646</td>\n",
              "      <td>-1.303382</td>\n",
              "      <td>36.790658</td>\n",
              "      <td>-0.467866</td>\n",
              "      <td>-0.883800</td>\n",
              "      <td>-0.475048</td>\n",
              "      <td>-0.879960</td>\n",
              "      <td>-0.510105</td>\n",
              "      <td>-0.860112</td>\n",
              "      <td>-0.562324</td>\n",
              "      <td>-0.826917</td>\n",
              "    </tr>\n",
              "    <tr>\n",
              "      <th>4</th>\n",
              "      <td>3</td>\n",
              "      <td>0</td>\n",
              "      <td>11</td>\n",
              "      <td>2</td>\n",
              "      <td>11</td>\n",
              "      <td>2</td>\n",
              "      <td>11</td>\n",
              "      <td>2</td>\n",
              "      <td>11</td>\n",
              "      <td>2</td>\n",
              "      <td>6</td>\n",
              "      <td>24.40000</td>\n",
              "      <td>-1.281081</td>\n",
              "      <td>36.814423</td>\n",
              "      <td>-1.266467</td>\n",
              "      <td>36.792161</td>\n",
              "      <td>0.128507</td>\n",
              "      <td>-0.991709</td>\n",
              "      <td>0.109951</td>\n",
              "      <td>-0.993937</td>\n",
              "      <td>0.055313</td>\n",
              "      <td>-0.998469</td>\n",
              "      <td>0.017162</td>\n",
              "      <td>-0.999853</td>\n",
              "    </tr>\n",
              "  </tbody>\n",
              "</table>\n",
              "</div>"
            ],
            "text/plain": [
              "   platform_type  personal_or_business  ...  pickup_stime  pickup_ctime\n",
              "0              3                     0  ...     -0.973162     -0.230121\n",
              "1              3                     0  ...     -0.364944     -0.931029\n",
              "2              3                     0  ...      0.009163     -0.999958\n",
              "3              3                     0  ...     -0.562324     -0.826917\n",
              "4              3                     0  ...      0.017162     -0.999853\n",
              "\n",
              "[5 rows x 24 columns]"
            ]
          },
          "metadata": {
            "tags": []
          },
          "execution_count": 81
        }
      ]
    },
    {
      "cell_type": "code",
      "metadata": {
        "id": "MQZAArU2K_kf",
        "colab_type": "code",
        "colab": {}
      },
      "source": [
        "train.to_csv('trainsuperclean.csv')"
      ],
      "execution_count": 0,
      "outputs": []
    },
    {
      "cell_type": "code",
      "metadata": {
        "id": "0Stu9tFqAbeo",
        "colab_type": "code",
        "colab": {}
      },
      "source": [
        "to_test.to_csv('testsuperclean.csv')"
      ],
      "execution_count": 0,
      "outputs": []
    },
    {
      "cell_type": "code",
      "metadata": {
        "id": "sS4ydaeIzaDN",
        "colab_type": "code",
        "outputId": "4ab87c12-e700-4ff4-9ce0-5d3ace948b88",
        "colab": {
          "base_uri": "https://localhost:8080/",
          "height": 130
        }
      },
      "source": [
        "trained = pd.read_csv('trainsuperclean.csv', index_col = 0)\n",
        "\n",
        "trained.head(2)"
      ],
      "execution_count": 0,
      "outputs": [
        {
          "output_type": "execute_result",
          "data": {
            "text/html": [
              "<div>\n",
              "<style scoped>\n",
              "    .dataframe tbody tr th:only-of-type {\n",
              "        vertical-align: middle;\n",
              "    }\n",
              "\n",
              "    .dataframe tbody tr th {\n",
              "        vertical-align: top;\n",
              "    }\n",
              "\n",
              "    .dataframe thead th {\n",
              "        text-align: right;\n",
              "    }\n",
              "</style>\n",
              "<table border=\"1\" class=\"dataframe\">\n",
              "  <thead>\n",
              "    <tr style=\"text-align: right;\">\n",
              "      <th></th>\n",
              "      <th>platform_type</th>\n",
              "      <th>personal_or_business</th>\n",
              "      <th>placement_day_of_month</th>\n",
              "      <th>placement_weekday</th>\n",
              "      <th>confirmation_day_of_month</th>\n",
              "      <th>confirmation_weekday</th>\n",
              "      <th>arrival_at_pickup_day_of_month</th>\n",
              "      <th>arrival_at_pickup_weekday</th>\n",
              "      <th>pickup_day_of_month</th>\n",
              "      <th>pickup_weekday</th>\n",
              "      <th>distance_km</th>\n",
              "      <th>temperature</th>\n",
              "      <th>pickup_lat</th>\n",
              "      <th>pickup_long</th>\n",
              "      <th>destination_lat</th>\n",
              "      <th>destination_long</th>\n",
              "      <th>time_from_pickup_to_arrival</th>\n",
              "      <th>placement_stime</th>\n",
              "      <th>placement_ctime</th>\n",
              "      <th>confirmation_stime</th>\n",
              "      <th>confirmation_ctime</th>\n",
              "      <th>parrival_stime</th>\n",
              "      <th>parrival_ctime</th>\n",
              "      <th>pickup_stime</th>\n",
              "      <th>pickup_ctime</th>\n",
              "      <th>order_time</th>\n",
              "      <th>travel_time</th>\n",
              "      <th>waiting_time</th>\n",
              "    </tr>\n",
              "  </thead>\n",
              "  <tbody>\n",
              "    <tr>\n",
              "      <th>0</th>\n",
              "      <td>3</td>\n",
              "      <td>0</td>\n",
              "      <td>9</td>\n",
              "      <td>5</td>\n",
              "      <td>9</td>\n",
              "      <td>5</td>\n",
              "      <td>9</td>\n",
              "      <td>5</td>\n",
              "      <td>9</td>\n",
              "      <td>5</td>\n",
              "      <td>4</td>\n",
              "      <td>20.4</td>\n",
              "      <td>-1.317755</td>\n",
              "      <td>36.830370</td>\n",
              "      <td>-1.300406</td>\n",
              "      <td>36.829741</td>\n",
              "      <td>745</td>\n",
              "      <td>0.588609</td>\n",
              "      <td>-0.808418</td>\n",
              "      <td>0.572981</td>\n",
              "      <td>-0.819569</td>\n",
              "      <td>0.481817</td>\n",
              "      <td>-0.876272</td>\n",
              "      <td>0.392738</td>\n",
              "      <td>-0.919650</td>\n",
              "      <td>264</td>\n",
              "      <td>1477</td>\n",
              "      <td>1363</td>\n",
              "    </tr>\n",
              "    <tr>\n",
              "      <th>1</th>\n",
              "      <td>3</td>\n",
              "      <td>1</td>\n",
              "      <td>12</td>\n",
              "      <td>5</td>\n",
              "      <td>12</td>\n",
              "      <td>5</td>\n",
              "      <td>12</td>\n",
              "      <td>5</td>\n",
              "      <td>12</td>\n",
              "      <td>5</td>\n",
              "      <td>16</td>\n",
              "      <td>26.4</td>\n",
              "      <td>-1.351453</td>\n",
              "      <td>36.899315</td>\n",
              "      <td>-1.295004</td>\n",
              "      <td>36.814358</td>\n",
              "      <td>1993</td>\n",
              "      <td>0.189667</td>\n",
              "      <td>-0.981849</td>\n",
              "      <td>0.159235</td>\n",
              "      <td>-0.987241</td>\n",
              "      <td>0.085562</td>\n",
              "      <td>-0.996333</td>\n",
              "      <td>0.069104</td>\n",
              "      <td>-0.997609</td>\n",
              "      <td>425</td>\n",
              "      <td>1021</td>\n",
              "      <td>227</td>\n",
              "    </tr>\n",
              "  </tbody>\n",
              "</table>\n",
              "</div>"
            ],
            "text/plain": [
              "   platform_type  personal_or_business  ...  travel_time  waiting_time\n",
              "0              3                     0  ...         1477          1363\n",
              "1              3                     1  ...         1021           227\n",
              "\n",
              "[2 rows x 28 columns]"
            ]
          },
          "metadata": {
            "tags": []
          },
          "execution_count": 120
        }
      ]
    },
    {
      "cell_type": "code",
      "metadata": {
        "id": "XZ96ePVt1yR4",
        "colab_type": "code",
        "outputId": "8a9016c2-7730-4044-c713-e76be4b7a1bf",
        "colab": {
          "base_uri": "https://localhost:8080/",
          "height": 222
        }
      },
      "source": [
        "tested = pd.read_csv('testsuperclean.csv', index_col = 0)\n",
        "\n",
        "tested.head()"
      ],
      "execution_count": 0,
      "outputs": [
        {
          "output_type": "execute_result",
          "data": {
            "text/html": [
              "<div>\n",
              "<style scoped>\n",
              "    .dataframe tbody tr th:only-of-type {\n",
              "        vertical-align: middle;\n",
              "    }\n",
              "\n",
              "    .dataframe tbody tr th {\n",
              "        vertical-align: top;\n",
              "    }\n",
              "\n",
              "    .dataframe thead th {\n",
              "        text-align: right;\n",
              "    }\n",
              "</style>\n",
              "<table border=\"1\" class=\"dataframe\">\n",
              "  <thead>\n",
              "    <tr style=\"text-align: right;\">\n",
              "      <th></th>\n",
              "      <th>platform_type</th>\n",
              "      <th>personal_or_business</th>\n",
              "      <th>placement_day_of_month</th>\n",
              "      <th>placement_weekday</th>\n",
              "      <th>confirmation_day_of_month</th>\n",
              "      <th>confirmation_weekday</th>\n",
              "      <th>arrival_at_pickup_day_of_month</th>\n",
              "      <th>arrival_at_pickup_weekday</th>\n",
              "      <th>pickup_day_of_month</th>\n",
              "      <th>pickup_weekday</th>\n",
              "      <th>distance_km</th>\n",
              "      <th>temperature</th>\n",
              "      <th>pickup_lat</th>\n",
              "      <th>pickup_long</th>\n",
              "      <th>destination_lat</th>\n",
              "      <th>destination_long</th>\n",
              "      <th>placement_stime</th>\n",
              "      <th>placement_ctime</th>\n",
              "      <th>confirmation_stime</th>\n",
              "      <th>confirmation_ctime</th>\n",
              "      <th>parrival_stime</th>\n",
              "      <th>parrival_ctime</th>\n",
              "      <th>pickup_stime</th>\n",
              "      <th>pickup_ctime</th>\n",
              "      <th>order_time</th>\n",
              "      <th>travel_time</th>\n",
              "      <th>waiting_time</th>\n",
              "    </tr>\n",
              "  </thead>\n",
              "  <tbody>\n",
              "    <tr>\n",
              "      <th>0</th>\n",
              "      <td>3</td>\n",
              "      <td>0</td>\n",
              "      <td>27</td>\n",
              "      <td>3</td>\n",
              "      <td>27</td>\n",
              "      <td>3</td>\n",
              "      <td>27</td>\n",
              "      <td>3</td>\n",
              "      <td>27</td>\n",
              "      <td>3</td>\n",
              "      <td>8</td>\n",
              "      <td>23.24612</td>\n",
              "      <td>-1.333275</td>\n",
              "      <td>36.870815</td>\n",
              "      <td>-1.305249</td>\n",
              "      <td>36.822390</td>\n",
              "      <td>-0.945755</td>\n",
              "      <td>-0.324880</td>\n",
              "      <td>-0.946203</td>\n",
              "      <td>-0.323573</td>\n",
              "      <td>-0.957655</td>\n",
              "      <td>-0.287918</td>\n",
              "      <td>-0.973162</td>\n",
              "      <td>-0.230121</td>\n",
              "      <td>19</td>\n",
              "      <td>515</td>\n",
              "      <td>823</td>\n",
              "    </tr>\n",
              "    <tr>\n",
              "      <th>1</th>\n",
              "      <td>3</td>\n",
              "      <td>0</td>\n",
              "      <td>17</td>\n",
              "      <td>5</td>\n",
              "      <td>17</td>\n",
              "      <td>5</td>\n",
              "      <td>17</td>\n",
              "      <td>5</td>\n",
              "      <td>17</td>\n",
              "      <td>5</td>\n",
              "      <td>5</td>\n",
              "      <td>23.24612</td>\n",
              "      <td>-1.272639</td>\n",
              "      <td>36.794723</td>\n",
              "      <td>-1.277007</td>\n",
              "      <td>36.823907</td>\n",
              "      <td>-0.248619</td>\n",
              "      <td>-0.968601</td>\n",
              "      <td>-0.255797</td>\n",
              "      <td>-0.966730</td>\n",
              "      <td>-0.343865</td>\n",
              "      <td>-0.939019</td>\n",
              "      <td>-0.364944</td>\n",
              "      <td>-0.931029</td>\n",
              "      <td>102</td>\n",
              "      <td>1270</td>\n",
              "      <td>310</td>\n",
              "    </tr>\n",
              "    <tr>\n",
              "      <th>2</th>\n",
              "      <td>3</td>\n",
              "      <td>0</td>\n",
              "      <td>27</td>\n",
              "      <td>4</td>\n",
              "      <td>27</td>\n",
              "      <td>4</td>\n",
              "      <td>27</td>\n",
              "      <td>4</td>\n",
              "      <td>27</td>\n",
              "      <td>4</td>\n",
              "      <td>5</td>\n",
              "      <td>22.80000</td>\n",
              "      <td>-1.290894</td>\n",
              "      <td>36.822971</td>\n",
              "      <td>-1.276574</td>\n",
              "      <td>36.851365</td>\n",
              "      <td>0.223959</td>\n",
              "      <td>-0.974599</td>\n",
              "      <td>0.151764</td>\n",
              "      <td>-0.988417</td>\n",
              "      <td>0.116093</td>\n",
              "      <td>-0.993238</td>\n",
              "      <td>0.009163</td>\n",
              "      <td>-0.999958</td>\n",
              "      <td>1011</td>\n",
              "      <td>495</td>\n",
              "      <td>1474</td>\n",
              "    </tr>\n",
              "    <tr>\n",
              "      <th>3</th>\n",
              "      <td>3</td>\n",
              "      <td>0</td>\n",
              "      <td>17</td>\n",
              "      <td>1</td>\n",
              "      <td>17</td>\n",
              "      <td>1</td>\n",
              "      <td>17</td>\n",
              "      <td>1</td>\n",
              "      <td>17</td>\n",
              "      <td>1</td>\n",
              "      <td>5</td>\n",
              "      <td>24.50000</td>\n",
              "      <td>-1.290503</td>\n",
              "      <td>36.809646</td>\n",
              "      <td>-1.303382</td>\n",
              "      <td>36.790658</td>\n",
              "      <td>-0.467866</td>\n",
              "      <td>-0.883800</td>\n",
              "      <td>-0.475048</td>\n",
              "      <td>-0.879960</td>\n",
              "      <td>-0.510105</td>\n",
              "      <td>-0.860112</td>\n",
              "      <td>-0.562324</td>\n",
              "      <td>-0.826917</td>\n",
              "      <td>112</td>\n",
              "      <td>554</td>\n",
              "      <td>851</td>\n",
              "    </tr>\n",
              "    <tr>\n",
              "      <th>4</th>\n",
              "      <td>3</td>\n",
              "      <td>0</td>\n",
              "      <td>11</td>\n",
              "      <td>2</td>\n",
              "      <td>11</td>\n",
              "      <td>2</td>\n",
              "      <td>11</td>\n",
              "      <td>2</td>\n",
              "      <td>11</td>\n",
              "      <td>2</td>\n",
              "      <td>6</td>\n",
              "      <td>24.40000</td>\n",
              "      <td>-1.281081</td>\n",
              "      <td>36.814423</td>\n",
              "      <td>-1.266467</td>\n",
              "      <td>36.792161</td>\n",
              "      <td>0.128507</td>\n",
              "      <td>-0.991709</td>\n",
              "      <td>0.109951</td>\n",
              "      <td>-0.993937</td>\n",
              "      <td>0.055313</td>\n",
              "      <td>-0.998469</td>\n",
              "      <td>0.017162</td>\n",
              "      <td>-0.999853</td>\n",
              "      <td>257</td>\n",
              "      <td>754</td>\n",
              "      <td>525</td>\n",
              "    </tr>\n",
              "  </tbody>\n",
              "</table>\n",
              "</div>"
            ],
            "text/plain": [
              "   platform_type  personal_or_business  ...  travel_time  waiting_time\n",
              "0              3                     0  ...          515           823\n",
              "1              3                     0  ...         1270           310\n",
              "2              3                     0  ...          495          1474\n",
              "3              3                     0  ...          554           851\n",
              "4              3                     0  ...          754           525\n",
              "\n",
              "[5 rows x 27 columns]"
            ]
          },
          "metadata": {
            "tags": []
          },
          "execution_count": 121
        }
      ]
    },
    {
      "cell_type": "markdown",
      "metadata": {
        "id": "Wgobi4pHvpMa",
        "colab_type": "text"
      },
      "source": [
        "#### Splitting Data Target & Feature sets"
      ]
    },
    {
      "cell_type": "code",
      "metadata": {
        "id": "3kxTknfGuI3K",
        "colab_type": "code",
        "colab": {}
      },
      "source": [
        "# Selecting the columns to be used as data for accuracy testing\n",
        "\n",
        "X = trained.drop('time_from_pickup_to_arrival', axis = 1)\n",
        "\n",
        "#assigning the target column\n",
        "\n",
        "y = trained['time_from_pickup_to_arrival']\n",
        "\n"
      ],
      "execution_count": 0,
      "outputs": []
    },
    {
      "cell_type": "code",
      "metadata": {
        "id": "Npypxxk9PcbN",
        "colab_type": "code",
        "colab": {}
      },
      "source": [
        "# Defining the train and test sets\n",
        "X_train = X\n",
        "X_test = tested\n",
        "y_train = y"
      ],
      "execution_count": 0,
      "outputs": []
    },
    {
      "cell_type": "code",
      "metadata": {
        "id": "vuzeI1I1PuWQ",
        "colab_type": "code",
        "outputId": "929b32a0-a7ce-417c-a32d-23ef94334c0e",
        "colab": {
          "base_uri": "https://localhost:8080/",
          "height": 52
        }
      },
      "source": [
        "print(X_train.shape)\n",
        "print(X_test.shape)"
      ],
      "execution_count": 0,
      "outputs": [
        {
          "output_type": "stream",
          "text": [
            "(21201, 27)\n",
            "(7068, 27)\n"
          ],
          "name": "stdout"
        }
      ]
    },
    {
      "cell_type": "markdown",
      "metadata": {
        "id": "IEbzpWjdujIn",
        "colab_type": "text"
      },
      "source": [
        "### Normalisation & P.C.A"
      ]
    },
    {
      "cell_type": "code",
      "metadata": {
        "id": "i4cLPKf6ukg6",
        "colab_type": "code",
        "colab": {}
      },
      "source": [
        "# Normalizing the data\n",
        "\n",
        "from sklearn.preprocessing import StandardScaler\n",
        "\n",
        "sc = StandardScaler()\n",
        "\n",
        "X_train = sc.fit_transform(X_train)\n",
        "\n",
        "X_test = sc.transform(X_test)\n",
        "  "
      ],
      "execution_count": 0,
      "outputs": []
    },
    {
      "cell_type": "code",
      "metadata": {
        "id": "ZK29DEW0upFU",
        "colab_type": "code",
        "colab": {}
      },
      "source": [
        "# Applying PCA\n",
        "\n",
        "from sklearn.decomposition import PCA\n",
        "  \n",
        "pca = PCA()\n",
        "  \n",
        "X_train = pca.fit_transform(X_train)\n",
        "  \n",
        "X_test = pca.transform(X_test)\n",
        "  "
      ],
      "execution_count": 0,
      "outputs": []
    },
    {
      "cell_type": "code",
      "metadata": {
        "id": "C_LNuX293LYA",
        "colab_type": "code",
        "colab": {}
      },
      "source": [
        "from sklearn.linear_model import LinearRegression\n",
        "regressor = LinearRegression()\n",
        "regressor.fit(X_train, y_train)\n",
        "y_pred = regressor.predict(X_test)\n",
        "\n",
        "#from sklearn.metrics import r2_score, mean_squared_error, accuracy_score\n",
        "#print(f'accuracy: {accuracy_score(y_test, y_pred)}')\n",
        "#error = mean_squared_error(y_pred)\n",
        "#print(np.sqrt(error))\n",
        "#r2_score(y_test, y_pred)"
      ],
      "execution_count": 0,
      "outputs": []
    },
    {
      "cell_type": "code",
      "metadata": {
        "id": "nZNqSlad59bq",
        "colab_type": "code",
        "colab": {}
      },
      "source": [
        "submission = pd.DataFrame({'Order_No': test['order_no'], 'Time from Pickup to Arrival': y_pred})\n",
        "submission.to_csv('sendy.csv',index = False)\n"
      ],
      "execution_count": 0,
      "outputs": []
    },
    {
      "cell_type": "code",
      "metadata": {
        "id": "0WsnfGhU5Q5Q",
        "colab_type": "code",
        "outputId": "d4c293f8-f9b8-4181-8425-cf81193b55ed",
        "colab": {
          "base_uri": "https://localhost:8080/",
          "height": 637
        }
      },
      "source": [
        "df = pd.DataFrame({'Actual': y_test, 'Predicted': y_pred.flatten()})\n",
        "df1 = df.head(100)\n",
        "df1.plot(kind='bar',figsize=(30,10))\n",
        "plt.grid(which='major', linestyle='-', linewidth='0.5', color='green')\n",
        "plt.grid(which='minor', linestyle=':', linewidth='0.5', color='black')\n",
        "plt.show()\n"
      ],
      "execution_count": 0,
      "outputs": [
        {
          "output_type": "display_data",
          "data": {
            "image/png": "[encoded data removed]",
            "text/plain": [
              "<Figure size 2160x720 with 1 Axes>"
            ]
          },
          "metadata": {
            "tags": []
          }
        }
      ]
    },
    {
      "cell_type": "markdown",
      "metadata": {
        "id": "KpGkfph4u0QI",
        "colab_type": "text"
      },
      "source": [
        "### Testing our Machine Learning Model"
      ]
    },
    {
      "cell_type": "markdown",
      "metadata": {
        "id": "Io8xN6CEwR9Y",
        "colab_type": "text"
      },
      "source": [
        "#### Random Forest Model"
      ]
    },
    {
      "cell_type": "code",
      "metadata": {
        "id": "8DZLveRwu1if",
        "colab_type": "code",
        "colab": {}
      },
      "source": [
        "components = {}\n",
        "\n",
        "for i in np.arange(1, len(X.columns)+1):\n",
        "  \n",
        "  \n",
        "  # Training and Making Predictions\n",
        "  \n",
        "  # The random forest classification classifier has been used to make predictions.\n",
        "  \n",
        "  from sklearn.linear_model import LogisticRegression\n",
        "  \n",
        "  classifier = LogisticRegression(random_state = 0)\n",
        "  \n",
        "  classifier.fit(X, y)\n",
        "  \n",
        "  \n",
        "  # Predicting the Test set results\n",
        "  \n",
        "  y_pred = classifier.predict(X_test)\n",
        "  \n",
        "  \n",
        "  # Performing evaluation\n",
        "  \n",
        "  from sklearn.metrics import confusion_matrix\n",
        "  \n",
        "  from sklearn.metrics import accuracy_score\n",
        "  \n",
        "  cm = confusion_matrix(y, y_pred)\n",
        "  \n",
        "  acc = accuracy_score(y, y_pred)\n",
        "  \n",
        "  \n",
        "  print(cm)\n",
        "  \n",
        "  print(acc)\n",
        "  \n",
        "components.update({'n_components ' + str(i) : 'accuracy ' + str(acc*100)})\n",
        "\n",
        "components"
      ],
      "execution_count": 0,
      "outputs": []
    },
    {
      "cell_type": "markdown",
      "metadata": {
        "id": "vTbdjSrhVIiT",
        "colab_type": "text"
      },
      "source": [
        "## 6. Implementing the Solution"
      ]
    },
    {
      "cell_type": "code",
      "metadata": {
        "id": "PJLZaRzJXJ3w",
        "colab_type": "code",
        "colab": {}
      },
      "source": [
        "# Implementing the Solution\n",
        "# \n",
        "x = df.groupby(['']).sum().copy()\n",
        "\n",
        "ax = x.sort_values(by = '',ascending=False).plot(kind='bar', figsize=(18, 5));\n",
        "\n",
        "for p in ax.patches:\n",
        "  \n",
        "    ax.annotate(str( round( p.get_height() ) ) + \"\\n\" + str(round( p.get_height() /89.170) )+ \"%\", \n",
        "                \n",
        "                (p.get_x() * 1.007, p.get_height() * 0.75),\n",
        "                \n",
        "                color='black')\n"
      ],
      "execution_count": 0,
      "outputs": []
    },
    {
      "cell_type": "markdown",
      "metadata": {
        "id": "lQ2G4ZPDVOXE",
        "colab_type": "text"
      },
      "source": [
        "## 7. Challenging the solution"
      ]
    },
    {
      "cell_type": "code",
      "metadata": {
        "id": "j3x3SXZ4XT_L",
        "colab_type": "code",
        "colab": {}
      },
      "source": [
        "#predicting with xgboost\n",
        "\n",
        "model = XGBClassifier(n_estimators=1500,learning_rate =0.25)\n",
        "\n",
        "model.fit(X, y)"
      ],
      "execution_count": 0,
      "outputs": []
    },
    {
      "cell_type": "code",
      "metadata": {
        "id": "-ey27y59xX96",
        "colab_type": "code",
        "colab": {}
      },
      "source": [
        "# Calculating Feature Importance\n",
        "\n",
        "print(model.feature_importances_)\n",
        "\n",
        "importances = pd.DataFrame({'feature':X.columns,'importance':np.round(model.feature_importances_,3)})\n",
        "\n",
        "importances = importances.sort_values('importance',ascending=False).set_index('feature')\n",
        "\n",
        "importances"
      ],
      "execution_count": 0,
      "outputs": []
    },
    {
      "cell_type": "code",
      "metadata": {
        "id": "nuytOpdqxgSk",
        "colab_type": "code",
        "colab": {}
      },
      "source": [
        "# make predictions for test data\n",
        "\n",
        "y_pred = model.predict(X_test)\n",
        "\n",
        "predictions = [round(value) for value in y_pred]"
      ],
      "execution_count": 0,
      "outputs": []
    },
    {
      "cell_type": "code",
      "metadata": {
        "id": "1LCV29dcxckV",
        "colab_type": "code",
        "colab": {}
      },
      "source": [
        "# Model Accuracy\n",
        "\n",
        "model.score(X, y)"
      ],
      "execution_count": 0,
      "outputs": []
    },
    {
      "cell_type": "code",
      "metadata": {
        "id": "y3v11Dw3xbt7",
        "colab_type": "code",
        "colab": {}
      },
      "source": [
        "# Feature Importance Visualization\n",
        "\n",
        "importances.plot.bar()\n",
        "\n",
        "plt.show()"
      ],
      "execution_count": 0,
      "outputs": []
    },
    {
      "cell_type": "markdown",
      "metadata": {
        "id": "xrmHVMVsVS--",
        "colab_type": "text"
      },
      "source": [
        "## 8. Follow up questions"
      ]
    },
    {
      "cell_type": "markdown",
      "metadata": {
        "id": "HPQviDmNtta8",
        "colab_type": "text"
      },
      "source": [
        "### a). Did we have the right data?"
      ]
    },
    {
      "cell_type": "markdown",
      "metadata": {
        "id": "RMrCX1j4jHyF",
        "colab_type": "text"
      },
      "source": [
        ">......."
      ]
    },
    {
      "cell_type": "markdown",
      "metadata": {
        "id": "qjFHK1CKty7o",
        "colab_type": "text"
      },
      "source": [
        "### b). Do we need other data to answer our question?"
      ]
    },
    {
      "cell_type": "markdown",
      "metadata": {
        "id": "O1Fi1sTQjJuw",
        "colab_type": "text"
      },
      "source": [
        ">........."
      ]
    },
    {
      "cell_type": "markdown",
      "metadata": {
        "id": "HSsicSdvt4Zs",
        "colab_type": "text"
      },
      "source": [
        "### c). Did we have the right question?"
      ]
    },
    {
      "cell_type": "markdown",
      "metadata": {
        "id": "ndSoQOaHjPPv",
        "colab_type": "text"
      },
      "source": [
        ">........"
      ]
    },
    {
      "cell_type": "markdown",
      "metadata": {
        "id": "UDRHs8uVykaP",
        "colab_type": "text"
      },
      "source": [
        "## Conclusion"
      ]
    },
    {
      "cell_type": "markdown",
      "metadata": {
        "id": "fp65QHyayody",
        "colab_type": "text"
      },
      "source": [
        ">................"
      ]
    }
  ]
}